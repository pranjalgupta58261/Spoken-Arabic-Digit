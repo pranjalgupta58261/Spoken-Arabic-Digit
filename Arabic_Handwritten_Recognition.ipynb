{
  "cells": [
    {
      "cell_type": "markdown",
      "metadata": {
        "colab_type": "text",
        "id": "c6TiNABwkAhe"
      },
      "source": [
        "# Arabic Handwritten Recognition"
      ]
    },
    {
      "cell_type": "markdown",
      "metadata": {
        "colab_type": "text",
        "id": "yLgu44Fvkgdr"
      },
      "source": [
        "## Overview\n",
        "The automatic recognition of text on scanned images has enabled many applications such as searching for words in large volumes of documents, automatic sorting of postal mail, and convenient editing of previously printed documents.\n",
        "\n",
        "The domain of handwriting in the Arabic script presents unique technical challenges and has been addressed more recently than other domains. Many different methods have been proposed and applied to various types of images.\n",
        "\n",
        "Here we will focus on the recognition part of handwritten Arabic letters and digits recognition that face several challenges, including the unlimited variation in human handwriting and the large public databases.\n",
        "\n",
        "In this project we will employ several deep learning models to classify a the images to an arabic letter or digit. \n",
        "\n"
      ]
    },
    {
      "cell_type": "markdown",
      "metadata": {
        "colab_type": "text",
        "id": "jDxpa4JAonJF"
      },
      "source": [
        "## Dataset\n",
        "The dataset for this project originates from kaggle kernels which include \n",
        "**[Arabic Digits](https://www.kaggle.com/mloey1/ahdd1)** and **[Arabic Letters](https://www.kaggle.com/mloey1/ahcd1)**.\n",
        "\n",
        "All the datasets are CSV files representing the image pixels values and their corresponding label.\n",
        "\n",
        "Here are some more details about the datasets:\n",
        "\n",
        "* **Arabic Digits Dataset represents MADBase** (modified Arabic handwritten digits database) which contains **60,000 training images, and 10,000 test images**. MADBase was **written by 700 writers**. Each writer wrote each digit (from 0 -9) ten times. To ensure including different writing styles, the database was gathered from different institutions: Colleges of Engineering and Law, School of Medicine, the Open University (whose students span a wide range of ages), a high school, and a governmental institution. MADBase is available for free and can be downloaded from [here](http://datacenter.aucegypt.edu/shazeem/).\n",
        "\n",
        "* **Arabic Letters Dataset is composed of 16,800 characters written by 60 participants**, the age range is between 19 to 40 years, and 90% of participants are right-hand. Each participant wrote each character (from ’alef’ to ’yeh’) ten times. The images were scanned at the resolution of 300 dpi. Each block is segmented automatically using Matlab 2016a to determining the coordinates for each block. **The dataset is partitioned into two sets: a training set of 13,440 characters to 480 images per class and a test set of 3,360 characters to 120 images per class**. Writers of training set and test set are exclusive. Ordering of including writers to test set are randomized to make sure that writers of test set are not from a single institution to ensure variability of the test set."
      ]
    },
    {
      "cell_type": "markdown",
      "metadata": {
        "colab_type": "text",
        "id": "m6_ru2oupR7h"
      },
      "source": [
        "## Data Exploration\n"
      ]
    },
    {
      "cell_type": "markdown",
      "metadata": {
        "colab_type": "text",
        "id": "q2Z4_QkxppsF"
      },
      "source": [
        "1. We need to mount to google drive to be able to use the uploaded dataset files.\n"
      ]
    },
    {
      "cell_type": "code",
      "execution_count": 1,
      "metadata": {
        "colab": {
          "base_uri": "https://localhost:8080/",
          "height": 122
        },
        "colab_type": "code",
        "id": "qNoWN1Ts6SFr",
        "outputId": "5a5a11e7-b58d-48ed-b04a-22105752a641"
      },
      "outputs": [
        {
          "ename": "ModuleNotFoundError",
          "evalue": "No module named 'google.colab'",
          "output_type": "error",
          "traceback": [
            "\u001b[1;31m---------------------------------------------------------------------------\u001b[0m",
            "\u001b[1;31mModuleNotFoundError\u001b[0m                       Traceback (most recent call last)",
            "\u001b[1;32md:\\Games\\Arabic Handwritten Characters Dataset CSV-20230412T183417Z-001\\Arabic Handwritten Characters Dataset CSV\\Arabic_Handwritten_Recognition.ipynb Cell 6\u001b[0m in \u001b[0;36m<cell line: 1>\u001b[1;34m()\u001b[0m\n\u001b[1;32m----> <a href='vscode-notebook-cell:/d%3A/Games/Arabic%20Handwritten%20Characters%20Dataset%20CSV-20230412T183417Z-001/Arabic%20Handwritten%20Characters%20Dataset%20CSV/Arabic_Handwritten_Recognition.ipynb#W5sZmlsZQ%3D%3D?line=0'>1</a>\u001b[0m \u001b[39mfrom\u001b[39;00m \u001b[39mgoogle\u001b[39;00m\u001b[39m.\u001b[39;00m\u001b[39mcolab\u001b[39;00m \u001b[39mimport\u001b[39;00m drive\n\u001b[0;32m      <a href='vscode-notebook-cell:/d%3A/Games/Arabic%20Handwritten%20Characters%20Dataset%20CSV-20230412T183417Z-001/Arabic%20Handwritten%20Characters%20Dataset%20CSV/Arabic_Handwritten_Recognition.ipynb#W5sZmlsZQ%3D%3D?line=1'>2</a>\u001b[0m drive\u001b[39m.\u001b[39mmount(\u001b[39m'\u001b[39m\u001b[39m/content/drive\u001b[39m\u001b[39m'\u001b[39m)\n",
            "\u001b[1;31mModuleNotFoundError\u001b[0m: No module named 'google.colab'"
          ]
        }
      ],
      "source": [
        "from google.colab import drive\n",
        "drive.mount('/content/drive')"
      ]
    },
    {
      "cell_type": "markdown",
      "metadata": {
        "colab_type": "text",
        "id": "jJo8eDIRp5ku"
      },
      "source": [
        "2. Import libraries necessary for this project.\n"
      ]
    },
    {
      "cell_type": "code",
      "execution_count": 2,
      "metadata": {
        "colab": {},
        "colab_type": "code",
        "id": "v3o6mEbK6W9v"
      },
      "outputs": [],
      "source": [
        "# Import main libraries necessary for this project\n",
        "import numpy as np\n",
        "import pandas as pd\n",
        "from IPython.display import display # Allows the use of display() for DataFrames\n",
        "\n",
        "# Import libraries needed for reading image and processing it\n",
        "import csv\n",
        "from PIL import Image\n",
        "from scipy.ndimage import rotate\n",
        "\n",
        "# Pretty display for notebooks\n",
        "%matplotlib inline"
      ]
    },
    {
      "cell_type": "markdown",
      "metadata": {
        "colab_type": "text",
        "id": "X0ubj6mrqXku"
      },
      "source": [
        "3. Load the dataset files into dataframes to be used later in the project"
      ]
    },
    {
      "cell_type": "markdown",
      "metadata": {
        "colab_type": "text",
        "id": "rGcWZ2BBrLrr"
      },
      "source": [
        "### Loading Arabic Letters Dataset"
      ]
    },
    {
      "cell_type": "code",
      "execution_count": 4,
      "metadata": {
        "colab": {
          "base_uri": "https://localhost:8080/",
          "height": 287
        },
        "colab_type": "code",
        "id": "1MRwVjsDKpCN",
        "outputId": "ed64137f-e2f9-4908-b8ea-2b227519ce17"
      },
      "outputs": [
        {
          "name": "stdout",
          "output_type": "stream",
          "text": [
            "There are 13440 training arabic letter images of 64x64 pixels.\n",
            "There are 3360 testing arabic letter images of 64x64 pixels.\n"
          ]
        },
        {
          "data": {
            "text/html": [
              "<div>\n",
              "<style scoped>\n",
              "    .dataframe tbody tr th:only-of-type {\n",
              "        vertical-align: middle;\n",
              "    }\n",
              "\n",
              "    .dataframe tbody tr th {\n",
              "        vertical-align: top;\n",
              "    }\n",
              "\n",
              "    .dataframe thead th {\n",
              "        text-align: right;\n",
              "    }\n",
              "</style>\n",
              "<table border=\"1\" class=\"dataframe\">\n",
              "  <thead>\n",
              "    <tr style=\"text-align: right;\">\n",
              "      <th></th>\n",
              "      <th>0</th>\n",
              "      <th>1</th>\n",
              "      <th>2</th>\n",
              "      <th>3</th>\n",
              "      <th>4</th>\n",
              "      <th>5</th>\n",
              "      <th>6</th>\n",
              "      <th>7</th>\n",
              "      <th>8</th>\n",
              "      <th>9</th>\n",
              "      <th>10</th>\n",
              "      <th>11</th>\n",
              "      <th>12</th>\n",
              "      <th>13</th>\n",
              "      <th>14</th>\n",
              "      <th>15</th>\n",
              "      <th>16</th>\n",
              "      <th>17</th>\n",
              "      <th>18</th>\n",
              "      <th>19</th>\n",
              "      <th>20</th>\n",
              "      <th>21</th>\n",
              "      <th>22</th>\n",
              "      <th>23</th>\n",
              "      <th>24</th>\n",
              "      <th>25</th>\n",
              "      <th>26</th>\n",
              "      <th>27</th>\n",
              "      <th>28</th>\n",
              "      <th>29</th>\n",
              "      <th>30</th>\n",
              "      <th>31</th>\n",
              "      <th>32</th>\n",
              "      <th>33</th>\n",
              "      <th>34</th>\n",
              "      <th>35</th>\n",
              "      <th>36</th>\n",
              "      <th>37</th>\n",
              "      <th>38</th>\n",
              "      <th>39</th>\n",
              "      <th>...</th>\n",
              "      <th>4056</th>\n",
              "      <th>4057</th>\n",
              "      <th>4058</th>\n",
              "      <th>4059</th>\n",
              "      <th>4060</th>\n",
              "      <th>4061</th>\n",
              "      <th>4062</th>\n",
              "      <th>4063</th>\n",
              "      <th>4064</th>\n",
              "      <th>4065</th>\n",
              "      <th>4066</th>\n",
              "      <th>4067</th>\n",
              "      <th>4068</th>\n",
              "      <th>4069</th>\n",
              "      <th>4070</th>\n",
              "      <th>4071</th>\n",
              "      <th>4072</th>\n",
              "      <th>4073</th>\n",
              "      <th>4074</th>\n",
              "      <th>4075</th>\n",
              "      <th>4076</th>\n",
              "      <th>4077</th>\n",
              "      <th>4078</th>\n",
              "      <th>4079</th>\n",
              "      <th>4080</th>\n",
              "      <th>4081</th>\n",
              "      <th>4082</th>\n",
              "      <th>4083</th>\n",
              "      <th>4084</th>\n",
              "      <th>4085</th>\n",
              "      <th>4086</th>\n",
              "      <th>4087</th>\n",
              "      <th>4088</th>\n",
              "      <th>4089</th>\n",
              "      <th>4090</th>\n",
              "      <th>4091</th>\n",
              "      <th>4092</th>\n",
              "      <th>4093</th>\n",
              "      <th>4094</th>\n",
              "      <th>4095</th>\n",
              "    </tr>\n",
              "  </thead>\n",
              "  <tbody>\n",
              "    <tr>\n",
              "      <th>0</th>\n",
              "      <td>0</td>\n",
              "      <td>0</td>\n",
              "      <td>0</td>\n",
              "      <td>0</td>\n",
              "      <td>0</td>\n",
              "      <td>0</td>\n",
              "      <td>0</td>\n",
              "      <td>0</td>\n",
              "      <td>0</td>\n",
              "      <td>0</td>\n",
              "      <td>0</td>\n",
              "      <td>0</td>\n",
              "      <td>0</td>\n",
              "      <td>0</td>\n",
              "      <td>0</td>\n",
              "      <td>0</td>\n",
              "      <td>0</td>\n",
              "      <td>0</td>\n",
              "      <td>0</td>\n",
              "      <td>0</td>\n",
              "      <td>0</td>\n",
              "      <td>0</td>\n",
              "      <td>0</td>\n",
              "      <td>0</td>\n",
              "      <td>0</td>\n",
              "      <td>0</td>\n",
              "      <td>0</td>\n",
              "      <td>0</td>\n",
              "      <td>0</td>\n",
              "      <td>0</td>\n",
              "      <td>0</td>\n",
              "      <td>0</td>\n",
              "      <td>0</td>\n",
              "      <td>0</td>\n",
              "      <td>0</td>\n",
              "      <td>0</td>\n",
              "      <td>0</td>\n",
              "      <td>0</td>\n",
              "      <td>0</td>\n",
              "      <td>0</td>\n",
              "      <td>...</td>\n",
              "      <td>0</td>\n",
              "      <td>0</td>\n",
              "      <td>0</td>\n",
              "      <td>0</td>\n",
              "      <td>0</td>\n",
              "      <td>0</td>\n",
              "      <td>0</td>\n",
              "      <td>0</td>\n",
              "      <td>0</td>\n",
              "      <td>0</td>\n",
              "      <td>0</td>\n",
              "      <td>0</td>\n",
              "      <td>0</td>\n",
              "      <td>0</td>\n",
              "      <td>0</td>\n",
              "      <td>0</td>\n",
              "      <td>0</td>\n",
              "      <td>0</td>\n",
              "      <td>0</td>\n",
              "      <td>0</td>\n",
              "      <td>0</td>\n",
              "      <td>0</td>\n",
              "      <td>0</td>\n",
              "      <td>0</td>\n",
              "      <td>0</td>\n",
              "      <td>0</td>\n",
              "      <td>0</td>\n",
              "      <td>0</td>\n",
              "      <td>0</td>\n",
              "      <td>0</td>\n",
              "      <td>0</td>\n",
              "      <td>0</td>\n",
              "      <td>0</td>\n",
              "      <td>0</td>\n",
              "      <td>0</td>\n",
              "      <td>0</td>\n",
              "      <td>0</td>\n",
              "      <td>0</td>\n",
              "      <td>0</td>\n",
              "      <td>0</td>\n",
              "    </tr>\n",
              "    <tr>\n",
              "      <th>1</th>\n",
              "      <td>0</td>\n",
              "      <td>0</td>\n",
              "      <td>0</td>\n",
              "      <td>0</td>\n",
              "      <td>0</td>\n",
              "      <td>0</td>\n",
              "      <td>0</td>\n",
              "      <td>0</td>\n",
              "      <td>0</td>\n",
              "      <td>0</td>\n",
              "      <td>0</td>\n",
              "      <td>0</td>\n",
              "      <td>0</td>\n",
              "      <td>0</td>\n",
              "      <td>0</td>\n",
              "      <td>0</td>\n",
              "      <td>0</td>\n",
              "      <td>0</td>\n",
              "      <td>0</td>\n",
              "      <td>0</td>\n",
              "      <td>0</td>\n",
              "      <td>0</td>\n",
              "      <td>0</td>\n",
              "      <td>0</td>\n",
              "      <td>0</td>\n",
              "      <td>0</td>\n",
              "      <td>0</td>\n",
              "      <td>0</td>\n",
              "      <td>0</td>\n",
              "      <td>0</td>\n",
              "      <td>0</td>\n",
              "      <td>0</td>\n",
              "      <td>0</td>\n",
              "      <td>0</td>\n",
              "      <td>0</td>\n",
              "      <td>0</td>\n",
              "      <td>0</td>\n",
              "      <td>0</td>\n",
              "      <td>0</td>\n",
              "      <td>0</td>\n",
              "      <td>...</td>\n",
              "      <td>0</td>\n",
              "      <td>0</td>\n",
              "      <td>0</td>\n",
              "      <td>0</td>\n",
              "      <td>0</td>\n",
              "      <td>0</td>\n",
              "      <td>0</td>\n",
              "      <td>0</td>\n",
              "      <td>0</td>\n",
              "      <td>0</td>\n",
              "      <td>0</td>\n",
              "      <td>0</td>\n",
              "      <td>0</td>\n",
              "      <td>0</td>\n",
              "      <td>0</td>\n",
              "      <td>0</td>\n",
              "      <td>0</td>\n",
              "      <td>0</td>\n",
              "      <td>0</td>\n",
              "      <td>0</td>\n",
              "      <td>0</td>\n",
              "      <td>0</td>\n",
              "      <td>0</td>\n",
              "      <td>0</td>\n",
              "      <td>0</td>\n",
              "      <td>0</td>\n",
              "      <td>0</td>\n",
              "      <td>0</td>\n",
              "      <td>0</td>\n",
              "      <td>0</td>\n",
              "      <td>0</td>\n",
              "      <td>0</td>\n",
              "      <td>0</td>\n",
              "      <td>0</td>\n",
              "      <td>0</td>\n",
              "      <td>0</td>\n",
              "      <td>0</td>\n",
              "      <td>0</td>\n",
              "      <td>0</td>\n",
              "      <td>0</td>\n",
              "    </tr>\n",
              "    <tr>\n",
              "      <th>2</th>\n",
              "      <td>0</td>\n",
              "      <td>0</td>\n",
              "      <td>0</td>\n",
              "      <td>0</td>\n",
              "      <td>0</td>\n",
              "      <td>0</td>\n",
              "      <td>0</td>\n",
              "      <td>0</td>\n",
              "      <td>0</td>\n",
              "      <td>0</td>\n",
              "      <td>0</td>\n",
              "      <td>0</td>\n",
              "      <td>0</td>\n",
              "      <td>0</td>\n",
              "      <td>0</td>\n",
              "      <td>0</td>\n",
              "      <td>0</td>\n",
              "      <td>0</td>\n",
              "      <td>0</td>\n",
              "      <td>0</td>\n",
              "      <td>0</td>\n",
              "      <td>0</td>\n",
              "      <td>0</td>\n",
              "      <td>0</td>\n",
              "      <td>0</td>\n",
              "      <td>0</td>\n",
              "      <td>0</td>\n",
              "      <td>0</td>\n",
              "      <td>0</td>\n",
              "      <td>0</td>\n",
              "      <td>0</td>\n",
              "      <td>0</td>\n",
              "      <td>0</td>\n",
              "      <td>0</td>\n",
              "      <td>0</td>\n",
              "      <td>0</td>\n",
              "      <td>0</td>\n",
              "      <td>0</td>\n",
              "      <td>0</td>\n",
              "      <td>0</td>\n",
              "      <td>...</td>\n",
              "      <td>0</td>\n",
              "      <td>0</td>\n",
              "      <td>0</td>\n",
              "      <td>0</td>\n",
              "      <td>0</td>\n",
              "      <td>0</td>\n",
              "      <td>0</td>\n",
              "      <td>0</td>\n",
              "      <td>0</td>\n",
              "      <td>0</td>\n",
              "      <td>0</td>\n",
              "      <td>0</td>\n",
              "      <td>0</td>\n",
              "      <td>0</td>\n",
              "      <td>0</td>\n",
              "      <td>0</td>\n",
              "      <td>0</td>\n",
              "      <td>0</td>\n",
              "      <td>0</td>\n",
              "      <td>0</td>\n",
              "      <td>0</td>\n",
              "      <td>0</td>\n",
              "      <td>0</td>\n",
              "      <td>0</td>\n",
              "      <td>0</td>\n",
              "      <td>0</td>\n",
              "      <td>0</td>\n",
              "      <td>0</td>\n",
              "      <td>0</td>\n",
              "      <td>0</td>\n",
              "      <td>0</td>\n",
              "      <td>0</td>\n",
              "      <td>0</td>\n",
              "      <td>0</td>\n",
              "      <td>0</td>\n",
              "      <td>0</td>\n",
              "      <td>0</td>\n",
              "      <td>0</td>\n",
              "      <td>0</td>\n",
              "      <td>0</td>\n",
              "    </tr>\n",
              "    <tr>\n",
              "      <th>3</th>\n",
              "      <td>0</td>\n",
              "      <td>0</td>\n",
              "      <td>0</td>\n",
              "      <td>0</td>\n",
              "      <td>0</td>\n",
              "      <td>0</td>\n",
              "      <td>0</td>\n",
              "      <td>0</td>\n",
              "      <td>0</td>\n",
              "      <td>0</td>\n",
              "      <td>0</td>\n",
              "      <td>0</td>\n",
              "      <td>0</td>\n",
              "      <td>0</td>\n",
              "      <td>0</td>\n",
              "      <td>0</td>\n",
              "      <td>0</td>\n",
              "      <td>0</td>\n",
              "      <td>0</td>\n",
              "      <td>0</td>\n",
              "      <td>0</td>\n",
              "      <td>0</td>\n",
              "      <td>0</td>\n",
              "      <td>0</td>\n",
              "      <td>0</td>\n",
              "      <td>0</td>\n",
              "      <td>0</td>\n",
              "      <td>0</td>\n",
              "      <td>0</td>\n",
              "      <td>0</td>\n",
              "      <td>0</td>\n",
              "      <td>0</td>\n",
              "      <td>0</td>\n",
              "      <td>0</td>\n",
              "      <td>0</td>\n",
              "      <td>0</td>\n",
              "      <td>0</td>\n",
              "      <td>0</td>\n",
              "      <td>0</td>\n",
              "      <td>0</td>\n",
              "      <td>...</td>\n",
              "      <td>0</td>\n",
              "      <td>0</td>\n",
              "      <td>0</td>\n",
              "      <td>0</td>\n",
              "      <td>0</td>\n",
              "      <td>0</td>\n",
              "      <td>0</td>\n",
              "      <td>0</td>\n",
              "      <td>0</td>\n",
              "      <td>0</td>\n",
              "      <td>0</td>\n",
              "      <td>0</td>\n",
              "      <td>0</td>\n",
              "      <td>0</td>\n",
              "      <td>0</td>\n",
              "      <td>0</td>\n",
              "      <td>0</td>\n",
              "      <td>0</td>\n",
              "      <td>0</td>\n",
              "      <td>0</td>\n",
              "      <td>0</td>\n",
              "      <td>0</td>\n",
              "      <td>0</td>\n",
              "      <td>0</td>\n",
              "      <td>0</td>\n",
              "      <td>0</td>\n",
              "      <td>0</td>\n",
              "      <td>0</td>\n",
              "      <td>0</td>\n",
              "      <td>0</td>\n",
              "      <td>0</td>\n",
              "      <td>0</td>\n",
              "      <td>0</td>\n",
              "      <td>0</td>\n",
              "      <td>0</td>\n",
              "      <td>0</td>\n",
              "      <td>0</td>\n",
              "      <td>0</td>\n",
              "      <td>0</td>\n",
              "      <td>0</td>\n",
              "    </tr>\n",
              "    <tr>\n",
              "      <th>4</th>\n",
              "      <td>0</td>\n",
              "      <td>0</td>\n",
              "      <td>0</td>\n",
              "      <td>0</td>\n",
              "      <td>0</td>\n",
              "      <td>0</td>\n",
              "      <td>0</td>\n",
              "      <td>0</td>\n",
              "      <td>0</td>\n",
              "      <td>0</td>\n",
              "      <td>0</td>\n",
              "      <td>0</td>\n",
              "      <td>0</td>\n",
              "      <td>0</td>\n",
              "      <td>0</td>\n",
              "      <td>0</td>\n",
              "      <td>0</td>\n",
              "      <td>0</td>\n",
              "      <td>0</td>\n",
              "      <td>0</td>\n",
              "      <td>0</td>\n",
              "      <td>0</td>\n",
              "      <td>0</td>\n",
              "      <td>0</td>\n",
              "      <td>0</td>\n",
              "      <td>0</td>\n",
              "      <td>0</td>\n",
              "      <td>0</td>\n",
              "      <td>0</td>\n",
              "      <td>0</td>\n",
              "      <td>0</td>\n",
              "      <td>0</td>\n",
              "      <td>0</td>\n",
              "      <td>0</td>\n",
              "      <td>0</td>\n",
              "      <td>0</td>\n",
              "      <td>0</td>\n",
              "      <td>0</td>\n",
              "      <td>0</td>\n",
              "      <td>0</td>\n",
              "      <td>...</td>\n",
              "      <td>0</td>\n",
              "      <td>0</td>\n",
              "      <td>0</td>\n",
              "      <td>0</td>\n",
              "      <td>0</td>\n",
              "      <td>0</td>\n",
              "      <td>0</td>\n",
              "      <td>0</td>\n",
              "      <td>0</td>\n",
              "      <td>0</td>\n",
              "      <td>0</td>\n",
              "      <td>0</td>\n",
              "      <td>0</td>\n",
              "      <td>0</td>\n",
              "      <td>0</td>\n",
              "      <td>0</td>\n",
              "      <td>0</td>\n",
              "      <td>0</td>\n",
              "      <td>0</td>\n",
              "      <td>0</td>\n",
              "      <td>0</td>\n",
              "      <td>0</td>\n",
              "      <td>0</td>\n",
              "      <td>0</td>\n",
              "      <td>0</td>\n",
              "      <td>0</td>\n",
              "      <td>0</td>\n",
              "      <td>0</td>\n",
              "      <td>0</td>\n",
              "      <td>0</td>\n",
              "      <td>0</td>\n",
              "      <td>0</td>\n",
              "      <td>0</td>\n",
              "      <td>0</td>\n",
              "      <td>0</td>\n",
              "      <td>0</td>\n",
              "      <td>0</td>\n",
              "      <td>0</td>\n",
              "      <td>0</td>\n",
              "      <td>0</td>\n",
              "    </tr>\n",
              "  </tbody>\n",
              "</table>\n",
              "<p>5 rows × 4096 columns</p>\n",
              "</div>"
            ],
            "text/plain": [
              "   0     1     2     3     4     5     ...  4090  4091  4092  4093  4094  4095\n",
              "0     0     0     0     0     0     0  ...     0     0     0     0     0     0\n",
              "1     0     0     0     0     0     0  ...     0     0     0     0     0     0\n",
              "2     0     0     0     0     0     0  ...     0     0     0     0     0     0\n",
              "3     0     0     0     0     0     0  ...     0     0     0     0     0     0\n",
              "4     0     0     0     0     0     0  ...     0     0     0     0     0     0\n",
              "\n",
              "[5 rows x 4096 columns]"
            ]
          },
          "execution_count": 4,
          "metadata": {
            "tags": []
          },
          "output_type": "execute_result"
        }
      ],
      "source": [
        "# Training letters images and labels files\n",
        "letters_training_images_file_path = \"drive/My Drive/Capstone Project/Datasets/Arabic Handwritten Characters Dataset CSV/training images.zip\"\n",
        "letters_training_labels_file_path = \"drive/My Drive/Capstone Project/Datasets/Arabic Handwritten Characters Dataset CSV/training labels.zip\"\n",
        "# Testing letters images and labels files\n",
        "letters_testing_images_file_path = \"drive/My Drive/Capstone Project/Datasets/Arabic Handwritten Characters Dataset CSV/testing images.zip\"\n",
        "letters_testing_labels_file_path = \"drive/My Drive/Capstone Project/Datasets/Arabic Handwritten Characters Dataset CSV/testing labels.zip\"\n",
        "\n",
        "# Loading dataset into dataframes\n",
        "training_letters_images = pd.read_csv(letters_training_images_file_path, compression='zip', header=None)\n",
        "training_letters_labels = pd.read_csv(letters_training_labels_file_path, compression='zip', header=None)\n",
        "testing_letters_images = pd.read_csv(letters_testing_images_file_path, compression='zip', header=None)\n",
        "testing_letters_labels = pd.read_csv(letters_testing_labels_file_path, compression='zip', header=None)\n",
        "\n",
        "# print statistics about the dataset\n",
        "print(\"There are %d training arabic letter images of 64x64 pixels.\" %training_letters_images.shape[0])\n",
        "print(\"There are %d testing arabic letter images of 64x64 pixels.\" %testing_letters_images.shape[0])\n",
        "training_letters_images.head()"
      ]
    },
    {
      "cell_type": "markdown",
      "metadata": {
        "colab_type": "text",
        "id": "KuPNRawns2BV"
      },
      "source": [
        "### Loading Arabic Digits Dataset"
      ]
    },
    {
      "cell_type": "code",
      "execution_count": 6,
      "metadata": {
        "colab": {
          "base_uri": "https://localhost:8080/",
          "height": 51
        },
        "colab_type": "code",
        "id": "Zyoid-WpLjXT",
        "outputId": "504deeac-a270-4927-b4c6-34ff7d9304c9"
      },
      "outputs": [
        {
          "name": "stdout",
          "output_type": "stream",
          "text": [
            "There are 60000 training arabic digit images of 64x64 pixels.\n",
            "There are 10000 testing arabic digit images of 64x64 pixels.\n"
          ]
        }
      ],
      "source": [
        "# Training digits images and labels files\n",
        "digits_training_images_file_path = \"drive/My Drive/Capstone Project/Datasets/Arabic Handwritten Digits Dataset CSV/training images.zip\"\n",
        "digits_training_labels_file_path = \"drive/My Drive/Capstone Project/Datasets/Arabic Handwritten Digits Dataset CSV/training labels.zip\"\n",
        "# Testing digits images and labels files\n",
        "digits_testing_images_file_path = \"drive/My Drive/Capstone Project/Datasets/Arabic Handwritten Digits Dataset CSV/testing images.zip\"\n",
        "digits_testing_labels_file_path = \"drive/My Drive/Capstone Project/Datasets/Arabic Handwritten Digits Dataset CSV/testing labels.zip\"\n",
        "\n",
        "# Loading dataset into dataframes\n",
        "training_digits_images = pd.read_csv(digits_training_images_file_path, compression='zip', header=None)\n",
        "training_digits_labels = pd.read_csv(digits_training_labels_file_path, compression='zip', header=None)\n",
        "testing_digits_images = pd.read_csv(digits_testing_images_file_path, compression='zip', header=None)\n",
        "testing_digits_labels = pd.read_csv(digits_testing_labels_file_path, compression='zip', header=None)\n",
        "\n",
        "# print statistics about the dataset\n",
        "print(\"There are %d training arabic digit images of 64x64 pixels.\" %training_digits_images.shape[0])\n",
        "print(\"There are %d testing arabic digit images of 64x64 pixels.\" %testing_digits_images.shape[0])"
      ]
    },
    {
      "cell_type": "markdown",
      "metadata": {
        "colab_type": "text",
        "id": "LGFth_ks0VH4"
      },
      "source": [
        "### Convert csv values to an image \n",
        "Writting a method to be used later if we want visualization of an image from its pixels values."
      ]
    },
    {
      "cell_type": "code",
      "execution_count": 7,
      "metadata": {
        "colab": {},
        "colab_type": "code",
        "id": "2MbTUT_mMBGH"
      },
      "outputs": [],
      "source": [
        "def convert_values_to_image(image_values, display=False):\n",
        "  image_array = np.asarray(image_values)\n",
        "  image_array = image_array.reshape(64, 64).astype('uint8')\n",
        "  # The original dataset is reflected so we will flip it then rotate for a better view only.\n",
        "  image_array = np.flip(image_array, 0)\n",
        "  image_array = rotate(image_array, -90)\n",
        "  new_image = Image.fromarray(image_array)\n",
        "  if display == True:\n",
        "    new_image.show()\n",
        "  return new_image"
      ]
    },
    {
      "cell_type": "markdown",
      "metadata": {
        "colab_type": "text",
        "id": "MBwu1eDk0mjj"
      },
      "source": [
        "### Visualizing some examples"
      ]
    },
    {
      "cell_type": "code",
      "execution_count": 8,
      "metadata": {
        "colab": {
          "base_uri": "https://localhost:8080/",
          "height": 81
        },
        "colab_type": "code",
        "id": "pX4PxwqbyQg8",
        "outputId": "6433de79-c1f7-4c09-afc5-e17b782b8cc4"
      },
      "outputs": [
        {
          "data": {
            "image/png": "[encoded data removed]",
            "text/plain": [
              "<PIL.Image.Image image mode=L size=64x64 at 0x7F5B4D53E5F8>"
            ]
          },
          "execution_count": 8,
          "metadata": {
            "tags": []
          },
          "output_type": "execute_result"
        }
      ],
      "source": [
        "convert_values_to_image(training_letters_images.loc[0], True)"
      ]
    },
    {
      "cell_type": "code",
      "execution_count": 9,
      "metadata": {
        "colab": {
          "base_uri": "https://localhost:8080/",
          "height": 81
        },
        "colab_type": "code",
        "id": "R0J_oTy0yeXb",
        "outputId": "77ab78b1-95e9-4c4e-dfcb-0a2dbbc9ab4e"
      },
      "outputs": [
        {
          "data": {
            "image/png": "[encoded data removed]",
            "text/plain": [
              "<PIL.Image.Image image mode=L size=64x64 at 0x7F5B40CACF98>"
            ]
          },
          "execution_count": 9,
          "metadata": {
            "tags": []
          },
          "output_type": "execute_result"
        }
      ],
      "source": [
        "convert_values_to_image(training_letters_images.loc[12], True)"
      ]
    },
    {
      "cell_type": "code",
      "execution_count": 10,
      "metadata": {
        "colab": {
          "base_uri": "https://localhost:8080/",
          "height": 81
        },
        "colab_type": "code",
        "id": "IVwNBEIj2dcK",
        "outputId": "1d587abd-eee0-4c3d-c3bb-2ebf64c188b1"
      },
      "outputs": [
        {
          "data": {
            "image/png": "[encoded data removed]",
            "text/plain": [
              "<PIL.Image.Image image mode=L size=64x64 at 0x7F5B40C760F0>"
            ]
          },
          "execution_count": 10,
          "metadata": {
            "tags": []
          },
          "output_type": "execute_result"
        }
      ],
      "source": [
        "convert_values_to_image(training_letters_images.loc[37], True)"
      ]
    },
    {
      "cell_type": "code",
      "execution_count": 11,
      "metadata": {
        "colab": {
          "base_uri": "https://localhost:8080/",
          "height": 81
        },
        "colab_type": "code",
        "id": "pNKxXW5-2fl9",
        "outputId": "d94f24dd-9059-48eb-f19e-b81cf97a5dc3"
      },
      "outputs": [
        {
          "data": {
            "image/png": "[encoded data removed]",
            "text/plain": [
              "<PIL.Image.Image image mode=L size=64x64 at 0x7F5B40C761D0>"
            ]
          },
          "execution_count": 11,
          "metadata": {
            "tags": []
          },
          "output_type": "execute_result"
        }
      ],
      "source": [
        "convert_values_to_image(training_letters_images.loc[3000], True)"
      ]
    },
    {
      "cell_type": "code",
      "execution_count": 12,
      "metadata": {
        "colab": {
          "base_uri": "https://localhost:8080/",
          "height": 81
        },
        "colab_type": "code",
        "id": "FIYtePhT2iBr",
        "outputId": "d51afddf-7a83-4b04-c29f-a6ad3c1eb271"
      },
      "outputs": [
        {
          "data": {
            "image/png": "[encoded data removed]",
            "text/plain": [
              "<PIL.Image.Image image mode=L size=64x64 at 0x7F5B40C76278>"
            ]
          },
          "execution_count": 12,
          "metadata": {
            "tags": []
          },
          "output_type": "execute_result"
        }
      ],
      "source": [
        "convert_values_to_image(training_digits_images.loc[0], True)"
      ]
    },
    {
      "cell_type": "code",
      "execution_count": 13,
      "metadata": {
        "colab": {
          "base_uri": "https://localhost:8080/",
          "height": 81
        },
        "colab_type": "code",
        "id": "zdnSlqNxYB_H",
        "outputId": "db1dd27a-fefe-4ec2-bf3e-ffa57066541e"
      },
      "outputs": [
        {
          "data": {
            "image/png": "[encoded data removed]",
            "text/plain": [
              "<PIL.Image.Image image mode=L size=64x64 at 0x7F5B40C76320>"
            ]
          },
          "execution_count": 13,
          "metadata": {
            "tags": []
          },
          "output_type": "execute_result"
        }
      ],
      "source": [
        "convert_values_to_image(training_digits_images.loc[2], True)"
      ]
    },
    {
      "cell_type": "code",
      "execution_count": 14,
      "metadata": {
        "colab": {
          "base_uri": "https://localhost:8080/",
          "height": 81
        },
        "colab_type": "code",
        "id": "hlSt-2_2i8O1",
        "outputId": "464c57e0-2b7a-4c4d-f2df-aab1a0dbb5a5"
      },
      "outputs": [
        {
          "data": {
            "image/png": "[encoded data removed]",
            "text/plain": [
              "<PIL.Image.Image image mode=L size=64x64 at 0x7F5B40C763C8>"
            ]
          },
          "execution_count": 14,
          "metadata": {
            "tags": []
          },
          "output_type": "execute_result"
        }
      ],
      "source": [
        "convert_values_to_image(training_digits_images.loc[7], True)"
      ]
    },
    {
      "cell_type": "code",
      "execution_count": 15,
      "metadata": {
        "colab": {
          "base_uri": "https://localhost:8080/",
          "height": 81
        },
        "colab_type": "code",
        "id": "xsucycIri9ht",
        "outputId": "714e35f7-37a0-408e-c0d6-1bba94836e82"
      },
      "outputs": [
        {
          "data": {
            "image/png": "[encoded data removed]",
            "text/plain": [
              "<PIL.Image.Image image mode=L size=64x64 at 0x7F5B40C76470>"
            ]
          },
          "execution_count": 15,
          "metadata": {
            "tags": []
          },
          "output_type": "execute_result"
        }
      ],
      "source": [
        "convert_values_to_image(training_digits_images.loc[9], True)"
      ]
    },
    {
      "cell_type": "markdown",
      "metadata": {
        "colab_type": "text",
        "id": "ZZT4fEuLoLXw"
      },
      "source": [
        "## Data Preprocessing"
      ]
    },
    {
      "cell_type": "markdown",
      "metadata": {
        "colab_type": "text",
        "id": "TZH8hpO_qgem"
      },
      "source": [
        "### Image Normalization\n",
        "We rescale the images by dividing every pixel in the image by 255 to make them into range [0, 1]"
      ]
    },
    {
      "cell_type": "code",
      "execution_count": 16,
      "metadata": {
        "colab": {},
        "colab_type": "code",
        "id": "1HJI0WG0oNmT"
      },
      "outputs": [],
      "source": [
        "training_digits_images_scaled = training_digits_images.values.astype('float32')/255\n",
        "training_digits_labels = training_digits_labels.values.astype('int32')\n",
        "testing_digits_images_scaled = testing_digits_images.values.astype('float32')/255\n",
        "testing_digits_labels = testing_digits_labels.values.astype('int32')\n",
        "\n",
        "training_letters_images_scaled = training_letters_images.values.astype('float32')/255\n",
        "training_letters_labels = training_letters_labels.values.astype('int32')\n",
        "testing_letters_images_scaled = testing_letters_images.values.astype('float32')/255\n",
        "testing_letters_labels = testing_letters_labels.values.astype('int32')"
      ]
    },
    {
      "cell_type": "code",
      "execution_count": 17,
      "metadata": {
        "colab": {
          "base_uri": "https://localhost:8080/",
          "height": 136
        },
        "colab_type": "code",
        "id": "4GtF5Gc4sGsv",
        "outputId": "5f730686-de88-47dc-a308-2618ddcdd152"
      },
      "outputs": [
        {
          "name": "stdout",
          "output_type": "stream",
          "text": [
            "Training images of digits after scaling\n",
            "(60000, 4096)\n"
          ]
        },
        {
          "data": {
            "text/plain": [
              "array([[0., 0., 0., ..., 0., 0., 0.],\n",
              "       [0., 0., 0., ..., 0., 0., 0.],\n",
              "       [0., 0., 0., ..., 0., 0., 0.],\n",
              "       [0., 0., 0., ..., 0., 0., 0.],\n",
              "       [0., 0., 0., ..., 0., 0., 0.]], dtype=float32)"
            ]
          },
          "execution_count": 17,
          "metadata": {
            "tags": []
          },
          "output_type": "execute_result"
        }
      ],
      "source": [
        "print(\"Training images of digits after scaling\")\n",
        "print(training_digits_images_scaled.shape)\n",
        "training_digits_images_scaled[0:5]"
      ]
    },
    {
      "cell_type": "code",
      "execution_count": 18,
      "metadata": {
        "colab": {
          "base_uri": "https://localhost:8080/",
          "height": 136
        },
        "colab_type": "code",
        "id": "n68sxKC0sTkq",
        "outputId": "15a162f4-6ba7-4b01-d8b5-81c4e2eced74"
      },
      "outputs": [
        {
          "name": "stdout",
          "output_type": "stream",
          "text": [
            "Training images of letters after scaling\n",
            "(13440, 4096)\n"
          ]
        },
        {
          "data": {
            "text/plain": [
              "array([[0., 0., 0., ..., 0., 0., 0.],\n",
              "       [0., 0., 0., ..., 0., 0., 0.],\n",
              "       [0., 0., 0., ..., 0., 0., 0.],\n",
              "       [0., 0., 0., ..., 0., 0., 0.],\n",
              "       [0., 0., 0., ..., 0., 0., 0.]], dtype=float32)"
            ]
          },
          "execution_count": 18,
          "metadata": {
            "tags": []
          },
          "output_type": "execute_result"
        }
      ],
      "source": [
        "print(\"Training images of letters after scaling\")\n",
        "print(training_letters_images_scaled.shape)\n",
        "training_letters_images_scaled[0:5]"
      ]
    },
    {
      "cell_type": "markdown",
      "metadata": {
        "colab_type": "text",
        "id": "T-X1SJjnsq8b"
      },
      "source": [
        "### Encoding Categorical Labels\n",
        "From the labels csv files we can see that labels are categorical values and it is a multi-class classification problem. \n",
        "\n",
        "Our outputs are in the form of:\n",
        "* Digits from 0 to 9 have categories numbers from 0 to 9\n",
        "* Letters from ’alef’ to ’yeh’ have categories numbers from 10 to 37\n",
        "\n",
        "**Here we will encode these categories values using One Hot Encoding with keras.**\n",
        "\n",
        "One-hot encoding transforms integer to a binary matrix where the array contains only one ‘1’ and the rest elements are ‘0’.\n",
        "\n"
      ]
    },
    {
      "cell_type": "code",
      "execution_count": 19,
      "metadata": {
        "colab": {
          "base_uri": "https://localhost:8080/",
          "height": 34
        },
        "colab_type": "code",
        "id": "uQyT17YzsU7U",
        "outputId": "bcc5de2e-c436-44f6-b987-f5d8d376a447"
      },
      "outputs": [
        {
          "name": "stderr",
          "output_type": "stream",
          "text": [
            "Using TensorFlow backend.\n"
          ]
        }
      ],
      "source": [
        "from keras.utils import to_categorical\n",
        "\n",
        "# one hot encoding\n",
        "# number of classes = 10 (digits classes) + 28 (arabic alphabet classes)\n",
        "number_of_classes = 38\n",
        "training_letters_labels_encoded = to_categorical(training_letters_labels, num_classes=number_of_classes)\n",
        "testing_letters_labels_encoded = to_categorical(testing_letters_labels, num_classes=number_of_classes)\n",
        "training_digits_labels_encoded = to_categorical(training_digits_labels, num_classes=number_of_classes)\n",
        "testing_digits_labels_encoded = to_categorical(testing_digits_labels, num_classes=number_of_classes)"
      ]
    },
    {
      "cell_type": "code",
      "execution_count": 20,
      "metadata": {
        "colab": {
          "base_uri": "https://localhost:8080/",
          "height": 136
        },
        "colab_type": "code",
        "id": "9CyoYTDl1BXD",
        "outputId": "417bbbb9-04d4-4a7d-f61f-78c732d241b5"
      },
      "outputs": [
        {
          "name": "stdout",
          "output_type": "stream",
          "text": [
            "[[1. 0. 0. ... 0. 0. 0.]\n",
            " [0. 1. 0. ... 0. 0. 0.]\n",
            " [0. 0. 1. ... 0. 0. 0.]\n",
            " ...\n",
            " [0. 0. 0. ... 0. 0. 0.]\n",
            " [0. 0. 0. ... 0. 0. 0.]\n",
            " [0. 0. 0. ... 0. 0. 0.]]\n"
          ]
        }
      ],
      "source": [
        "print(training_digits_labels_encoded)"
      ]
    },
    {
      "cell_type": "markdown",
      "metadata": {
        "colab_type": "text",
        "id": "nsJzI6Gp5bbA"
      },
      "source": [
        "### Reshaping Input Images to 64x64x1\n"
      ]
    },
    {
      "cell_type": "markdown",
      "metadata": {
        "colab_type": "text",
        "id": "VDldXMz76EQH"
      },
      "source": [
        "When using TensorFlow as backend, Keras CNNs require a 4D array (which we'll also refer to as a 4D tensor) as input, with shape\n",
        "(nb_samples,rows,columns,channels)\n",
        "\n",
        "where nb_samples corresponds to the total number of images (or samples), and rows, columns, and channels correspond to the number of rows, columns, and channels for each image, respectively.\n",
        "\n",
        "**So we will reshape the input images to a 4D tensor with shape\n",
        "(nb_samples, 64, 64 ,1)** as we use grayscale images of 64x64 pixels."
      ]
    },
    {
      "cell_type": "code",
      "execution_count": 21,
      "metadata": {
        "colab": {
          "base_uri": "https://localhost:8080/",
          "height": 51
        },
        "colab_type": "code",
        "id": "EWTQ0nq85wWL",
        "outputId": "fae3559a-8abf-4888-dddf-1bafa65b7afc"
      },
      "outputs": [
        {
          "name": "stdout",
          "output_type": "stream",
          "text": [
            "(60000, 64, 64, 1) (60000, 38) (10000, 64, 64, 1) (10000, 38)\n",
            "(13440, 64, 64, 1) (13440, 38) (3360, 64, 64, 1) (3360, 38)\n"
          ]
        }
      ],
      "source": [
        "# reshape input digit images to 64x64x1\n",
        "training_digits_images_scaled = training_digits_images_scaled.reshape([-1, 64, 64, 1])\n",
        "testing_digits_images_scaled = testing_digits_images_scaled.reshape([-1, 64, 64, 1])\n",
        "\n",
        "# reshape input letter images to 64x64x1\n",
        "training_letters_images_scaled = training_letters_images_scaled.reshape([-1, 64, 64, 1])\n",
        "testing_letters_images_scaled = testing_letters_images_scaled.reshape([-1, 64, 64, 1])\n",
        "\n",
        "print(training_digits_images_scaled.shape, training_digits_labels_encoded.shape, testing_digits_images_scaled.shape, testing_digits_labels_encoded.shape)\n",
        "print(training_letters_images_scaled.shape, training_letters_labels_encoded.shape, testing_letters_images_scaled.shape, testing_letters_labels_encoded.shape)"
      ]
    },
    {
      "cell_type": "markdown",
      "metadata": {
        "colab_type": "text",
        "id": "Gtsr1vVaYS9D"
      },
      "source": [
        "### Merging Letters and Digits Datasets"
      ]
    },
    {
      "cell_type": "code",
      "execution_count": 22,
      "metadata": {
        "colab": {
          "base_uri": "https://localhost:8080/",
          "height": 85
        },
        "colab_type": "code",
        "id": "1bdfCcFpYpA_",
        "outputId": "8d6b7393-2618-42d0-bee4-98b2e02a787e"
      },
      "outputs": [
        {
          "name": "stdout",
          "output_type": "stream",
          "text": [
            "Total Training images are 73440 images of shape\n",
            "(73440, 64, 64, 1) (73440, 38)\n",
            "Total Testing images are 13360 images of shape\n",
            "(13360, 64, 64, 1) (13360, 38)\n"
          ]
        }
      ],
      "source": [
        "training_data_images = np.concatenate((training_digits_images_scaled, training_letters_images_scaled), axis=0) \n",
        "training_data_labels = np.concatenate((training_digits_labels_encoded, training_letters_labels_encoded), axis=0)\n",
        "print(\"Total Training images are {} images of shape\".format(training_data_images.shape[0]))\n",
        "print(training_data_images.shape, training_data_labels.shape)\n",
        "\n",
        "\n",
        "testing_data_images = np.concatenate((testing_digits_images_scaled, testing_letters_images_scaled), axis=0) \n",
        "testing_data_labels = np.concatenate((testing_digits_labels_encoded, testing_letters_labels_encoded), axis=0)\n",
        "print(\"Total Testing images are {} images of shape\".format(testing_data_images.shape[0]))\n",
        "print(testing_data_images.shape, testing_data_labels.shape)\n"
      ]
    },
    {
      "cell_type": "markdown",
      "metadata": {
        "colab_type": "text",
        "id": "bsZR7mb89UoI"
      },
      "source": [
        "## Designing Model Architecture"
      ]
    },
    {
      "cell_type": "markdown",
      "metadata": {
        "colab_type": "text",
        "id": "7DImv-hIKSOf"
      },
      "source": [
        "Now we will make a method which creates the model architecture with the specified optimizer and activation functions."
      ]
    },
    {
      "cell_type": "code",
      "execution_count": 24,
      "metadata": {
        "colab": {},
        "colab_type": "code",
        "id": "iHOTAM-w79Ak"
      },
      "outputs": [],
      "source": [
        "from keras.models import Sequential\n",
        "from keras.layers import Conv2D, MaxPooling2D, GlobalAveragePooling2D, BatchNormalization, Dropout, Dense\n",
        "\n",
        "def create_model(optimizer='adam', kernel_initializer='he_normal', activation='relu'):\n",
        "  # create model\n",
        "  model = Sequential()\n",
        "  model.add(Conv2D(filters=16, kernel_size=3, padding='same', input_shape=(64, 64, 1), kernel_initializer=kernel_initializer, activation=activation))\n",
        "  model.add(BatchNormalization())\n",
        "  model.add(MaxPooling2D(pool_size=2))\n",
        "  model.add(Dropout(0.2))\n",
        "\n",
        "  model.add(Conv2D(filters=32, kernel_size=3, padding='same', kernel_initializer=kernel_initializer, activation=activation))\n",
        "  model.add(BatchNormalization())\n",
        "  model.add(MaxPooling2D(pool_size=2))\n",
        "  model.add(Dropout(0.2))\n",
        "\n",
        "  model.add(Conv2D(filters=64, kernel_size=3, padding='same', kernel_initializer=kernel_initializer, activation=activation))\n",
        "  model.add(BatchNormalization())\n",
        "  model.add(MaxPooling2D(pool_size=2))\n",
        "  model.add(Dropout(0.2))\n",
        "\n",
        "  model.add(Conv2D(filters=128, kernel_size=3, padding='same', kernel_initializer=kernel_initializer, activation=activation))\n",
        "  model.add(BatchNormalization())\n",
        "  model.add(MaxPooling2D(pool_size=2))\n",
        "  model.add(Dropout(0.2))\n",
        "  model.add(GlobalAveragePooling2D())\n",
        "  \n",
        "  #Fully connected final layer\n",
        "  model.add(Dense(38, activation='softmax'))\n",
        "\n",
        "  # Compile model\n",
        "  model.compile(loss='categorical_crossentropy', metrics=['accuracy'], optimizer=optimizer)\n",
        "  return model"
      ]
    },
    {
      "cell_type": "markdown",
      "metadata": {
        "colab_type": "text",
        "id": "Wuqb1snmHPqW"
      },
      "source": [
        "Let’s understand above code step by step.\n",
        "\n",
        "* The first hidden layer is a convolutional layer. The layer has 16 feature maps, which with the size of 3×3 and an activation function which is relu. This is the input layer, expecting images with the structure outlined above.\n",
        "* The second layer is Batch Normalization which solves having distributions of the features vary across the training and test data, which breaks the IID assumption. We use it to help in two ways faster learning and higher overall accuracy. \n",
        "* The third layer is the MaxPooling layer. MaxPooling layer is used to down-sample the input to enable the model to make assumptions about the features so as to reduce overfitting. It also reduces the number of parameters to learn, reducing the training time.\n",
        "* The next layer is a Regularization layer using dropout. It is configured to randomly exclude 20% of neurons in the layer in order to reduce overfitting.\n",
        "* Another hidden layer with 32 feature maps with the size of 3×3 and a relu activation function to capture more features from the image.\n",
        "* Other hidden layers with 64 and 128 feature maps with the size of 3×3 and a relu activation function to capture complex patterns from the image which will decribe the digits and letters later.\n",
        "* More MaxPooling, Batch Normalization, Regularization and GlobalAveragePooling2D layers.\n",
        "* The last layer is the output layer with 10 neurons (number of output classes) and it uses softmax activation function as we have multi-classes. Each neuron will give the probability of that class.\n",
        "\n",
        "I used categorical_crossentropy as a loss function because its a multi-class classification problem. I used accuracy as metrics to improve the performance of our neural network."
      ]
    },
    {
      "cell_type": "markdown",
      "metadata": {
        "colab_type": "text",
        "id": "_GdoRPe6LiRV"
      },
      "source": [
        "## Model Summary And Visualization"
      ]
    },
    {
      "cell_type": "markdown",
      "metadata": {
        "colab_type": "text",
        "id": "RLAADtoKMkcB"
      },
      "source": [
        "Let's see the model summary."
      ]
    },
    {
      "cell_type": "code",
      "execution_count": 25,
      "metadata": {
        "colab": {
          "base_uri": "https://localhost:8080/",
          "height": 765
        },
        "colab_type": "code",
        "id": "GzgiwjyPLmrp",
        "outputId": "5fa3a42f-9e06-4798-bbd2-38d5011e9547"
      },
      "outputs": [
        {
          "name": "stdout",
          "output_type": "stream",
          "text": [
            "Model: \"sequential_1\"\n",
            "_________________________________________________________________\n",
            "Layer (type)                 Output Shape              Param #   \n",
            "=================================================================\n",
            "conv2d_1 (Conv2D)            (None, 64, 64, 16)        160       \n",
            "_________________________________________________________________\n",
            "batch_normalization_1 (Batch (None, 64, 64, 16)        64        \n",
            "_________________________________________________________________\n",
            "max_pooling2d_1 (MaxPooling2 (None, 32, 32, 16)        0         \n",
            "_________________________________________________________________\n",
            "dropout_1 (Dropout)          (None, 32, 32, 16)        0         \n",
            "_________________________________________________________________\n",
            "conv2d_2 (Conv2D)            (None, 32, 32, 32)        4640      \n",
            "_________________________________________________________________\n",
            "batch_normalization_2 (Batch (None, 32, 32, 32)        128       \n",
            "_________________________________________________________________\n",
            "max_pooling2d_2 (MaxPooling2 (None, 16, 16, 32)        0         \n",
            "_________________________________________________________________\n",
            "dropout_2 (Dropout)          (None, 16, 16, 32)        0         \n",
            "_________________________________________________________________\n",
            "conv2d_3 (Conv2D)            (None, 16, 16, 64)        18496     \n",
            "_________________________________________________________________\n",
            "batch_normalization_3 (Batch (None, 16, 16, 64)        256       \n",
            "_________________________________________________________________\n",
            "max_pooling2d_3 (MaxPooling2 (None, 8, 8, 64)          0         \n",
            "_________________________________________________________________\n",
            "dropout_3 (Dropout)          (None, 8, 8, 64)          0         \n",
            "_________________________________________________________________\n",
            "conv2d_4 (Conv2D)            (None, 8, 8, 128)         73856     \n",
            "_________________________________________________________________\n",
            "batch_normalization_4 (Batch (None, 8, 8, 128)         512       \n",
            "_________________________________________________________________\n",
            "max_pooling2d_4 (MaxPooling2 (None, 4, 4, 128)         0         \n",
            "_________________________________________________________________\n",
            "dropout_4 (Dropout)          (None, 4, 4, 128)         0         \n",
            "_________________________________________________________________\n",
            "global_average_pooling2d_1 ( (None, 128)               0         \n",
            "_________________________________________________________________\n",
            "dense_1 (Dense)              (None, 38)                4902      \n",
            "=================================================================\n",
            "Total params: 103,014\n",
            "Trainable params: 102,534\n",
            "Non-trainable params: 480\n",
            "_________________________________________________________________\n"
          ]
        }
      ],
      "source": [
        "model = create_model()\n",
        "model.summary()"
      ]
    },
    {
      "cell_type": "markdown",
      "metadata": {
        "colab_type": "text",
        "id": "F-WXi7zkLxuN"
      },
      "source": [
        "Keras support plotting the model in keras.utils.vis_utils module which provides utility functions to plot a Keras model using graphviz.\n",
        "\n",
        "To be able to use that utility we should first install pydot and graphviz modules. This can be done by running the following code cell then restart the runtime environment."
      ]
    },
    {
      "cell_type": "code",
      "execution_count": 26,
      "metadata": {
        "colab": {},
        "colab_type": "code",
        "id": "uIL81Yib39V6"
      },
      "outputs": [],
      "source": [
        "# https://pypi.python.org/pypi/pydot\n",
        "!apt-get -qq install -y graphviz && pip install -q pydot\n",
        "import pydot"
      ]
    },
    {
      "cell_type": "markdown",
      "metadata": {
        "colab_type": "text",
        "id": "eyEMpJx3MttP"
      },
      "source": [
        "Now we can plot the model and save it to a file also."
      ]
    },
    {
      "cell_type": "code",
      "execution_count": 27,
      "metadata": {
        "colab": {
          "base_uri": "https://localhost:8080/",
          "height": 1000
        },
        "colab_type": "code",
        "id": "B1zpgDtwMtEU",
        "outputId": "2f49025d-be39-4595-9206-a31a8740ea19"
      },
      "outputs": [
        {
          "data": {
            "image/png": "[encoded data removed]",
            "text/plain": [
              "<IPython.core.display.Image object>"
            ]
          },
          "metadata": {
            "tags": []
          },
          "output_type": "display_data"
        }
      ],
      "source": [
        "from keras.utils import plot_model\n",
        "\n",
        "plot_model(model, to_file=\"model.png\", show_shapes=True)\n",
        "from IPython.display import Image as IPythonImage\n",
        "display(IPythonImage('model.png'))"
      ]
    },
    {
      "cell_type": "markdown",
      "metadata": {
        "colab_type": "text",
        "id": "XKburGrWjUug"
      },
      "source": [
        "## Parameters Tuning"
      ]
    },
    {
      "cell_type": "markdown",
      "metadata": {
        "colab_type": "text",
        "id": "Oz6ZOYT5jde-"
      },
      "source": [
        "We will tune the parameters optimizer, kernel_initializer and activation."
      ]
    },
    {
      "cell_type": "code",
      "execution_count": null,
      "metadata": {
        "colab": {
          "base_uri": "https://localhost:8080/",
          "height": 34
        },
        "colab_type": "code",
        "id": "iqd8pUpo1vC3",
        "outputId": "e8b9bd6f-c30f-4325-e368-877abff2e31f"
      },
      "outputs": [
        {
          "name": "stdout",
          "output_type": "stream",
          "text": [
            "Number of different parameter combinations = 24\n"
          ]
        }
      ],
      "source": [
        "# fix random seed for reproducibility\n",
        "seed = 7\n",
        "np.random.seed(seed)\n",
        "\n",
        "# define the grid search parameters\n",
        "optimizer = ['RMSprop', 'Adam', 'Adagrad', 'Nadam']\n",
        "kernel_initializer = ['normal', 'uniform']\n",
        "activation = ['relu', 'linear', 'tanh']\n",
        "\n",
        "param_grid = dict(optimizer=optimizer, kernel_initializer=kernel_initializer, activation=activation)\n",
        "\n",
        "# count number of different parameters values combinations\n",
        "parameters_number = 1\n",
        "for x in param_grid:\n",
        "  parameters_number = parameters_number * len(param_grid[x]) \n",
        "print(\"Number of different parameter combinations = {}\".format(parameters_number))"
      ]
    },
    {
      "cell_type": "markdown",
      "metadata": {
        "colab_type": "text",
        "id": "rn5e1UWniPmD"
      },
      "source": [
        "We will try different models with different parameters to find the best parameter values."
      ]
    },
    {
      "cell_type": "code",
      "execution_count": null,
      "metadata": {
        "colab": {
          "base_uri": "https://localhost:8080/",
          "height": 5341
        },
        "colab_type": "code",
        "id": "kbtGq865gbEW",
        "outputId": "628f25ba-bd1f-4101-f64b-00f07395a0e4"
      },
      "outputs": [
        {
          "name": "stdout",
          "output_type": "stream",
          "text": [
            "{'optimizer': 'RMSprop', 'kernel_initializer': 'normal', 'activation': 'relu'}\n",
            "Train on 73440 samples, validate on 13360 samples\n",
            "Epoch 1/5\n",
            "73440/73440 [==============================] - 84s 1ms/step - loss: 0.3349 - acc: 0.9089 - val_loss: 2.4386 - val_acc: 0.5037\n",
            "Epoch 2/5\n",
            "73440/73440 [==============================] - 82s 1ms/step - loss: 0.1106 - acc: 0.9670 - val_loss: 0.1605 - val_acc: 0.9507\n",
            "Epoch 3/5\n",
            "73440/73440 [==============================] - 81s 1ms/step - loss: 0.0865 - acc: 0.9738 - val_loss: 0.1138 - val_acc: 0.9665\n",
            "Epoch 4/5\n",
            "73440/73440 [==============================] - 81s 1ms/step - loss: 0.0788 - acc: 0.9772 - val_loss: 2.5557 - val_acc: 0.5233\n",
            "Epoch 5/5\n",
            "73440/73440 [==============================] - 81s 1ms/step - loss: 0.0710 - acc: 0.9788 - val_loss: 0.1519 - val_acc: 0.9559\n",
            "=============================================================================\n",
            "{'optimizer': 'RMSprop', 'kernel_initializer': 'uniform', 'activation': 'relu'}\n",
            "Train on 73440 samples, validate on 13360 samples\n",
            "Epoch 1/5\n",
            "73440/73440 [==============================] - 83s 1ms/step - loss: 0.3012 - acc: 0.9181 - val_loss: 0.3428 - val_acc: 0.8807\n",
            "Epoch 2/5\n",
            "73440/73440 [==============================] - 82s 1ms/step - loss: 0.1075 - acc: 0.9672 - val_loss: 0.1243 - val_acc: 0.9611\n",
            "Epoch 3/5\n",
            "73440/73440 [==============================] - 82s 1ms/step - loss: 0.0875 - acc: 0.9734 - val_loss: 0.0698 - val_acc: 0.9793\n",
            "Epoch 4/5\n",
            "73440/73440 [==============================] - 81s 1ms/step - loss: 0.0793 - acc: 0.9761 - val_loss: 7.7491 - val_acc: 0.3073\n",
            "Epoch 5/5\n",
            "73440/73440 [==============================] - 81s 1ms/step - loss: 0.0727 - acc: 0.9780 - val_loss: 3.6094 - val_acc: 0.5719\n",
            "=============================================================================\n",
            "{'optimizer': 'RMSprop', 'kernel_initializer': 'normal', 'activation': 'linear'}\n",
            "Train on 73440 samples, validate on 13360 samples\n",
            "Epoch 1/5\n",
            "73440/73440 [==============================] - 81s 1ms/step - loss: 0.6358 - acc: 0.8246 - val_loss: 0.5407 - val_acc: 0.8210\n",
            "Epoch 2/5\n",
            "73440/73440 [==============================] - 80s 1ms/step - loss: 0.2895 - acc: 0.9135 - val_loss: 0.3693 - val_acc: 0.8883\n",
            "Epoch 3/5\n",
            "73440/73440 [==============================] - 80s 1ms/step - loss: 0.2099 - acc: 0.9368 - val_loss: 0.1959 - val_acc: 0.9409\n",
            "Epoch 4/5\n",
            "73440/73440 [==============================] - 80s 1ms/step - loss: 0.1700 - acc: 0.9478 - val_loss: 2.2486 - val_acc: 0.7231\n",
            "Epoch 5/5\n",
            "73440/73440 [==============================] - 80s 1ms/step - loss: 0.1494 - acc: 0.9535 - val_loss: 1.5786 - val_acc: 0.6550\n",
            "=============================================================================\n",
            "{'optimizer': 'RMSprop', 'kernel_initializer': 'uniform', 'activation': 'linear'}\n",
            "Train on 73440 samples, validate on 13360 samples\n",
            "Epoch 1/5\n",
            "73440/73440 [==============================] - 82s 1ms/step - loss: 0.5886 - acc: 0.8377 - val_loss: 0.4105 - val_acc: 0.8868\n",
            "Epoch 2/5\n",
            "73440/73440 [==============================] - 80s 1ms/step - loss: 0.2662 - acc: 0.9196 - val_loss: 0.3536 - val_acc: 0.8877\n",
            "Epoch 3/5\n",
            "73440/73440 [==============================] - 80s 1ms/step - loss: 0.1943 - acc: 0.9400 - val_loss: 10.3813 - val_acc: 0.1775\n",
            "Epoch 4/5\n",
            "73440/73440 [==============================] - 80s 1ms/step - loss: 0.1643 - acc: 0.9488 - val_loss: 1.0918 - val_acc: 0.6720\n",
            "Epoch 5/5\n",
            "73440/73440 [==============================] - 80s 1ms/step - loss: 0.1426 - acc: 0.9559 - val_loss: 0.3167 - val_acc: 0.8961\n",
            "=============================================================================\n",
            "{'optimizer': 'RMSprop', 'kernel_initializer': 'normal', 'activation': 'tanh'}\n",
            "Train on 73440 samples, validate on 13360 samples\n",
            "Epoch 1/5\n",
            "73440/73440 [==============================] - 83s 1ms/step - loss: 0.4914 - acc: 0.8685 - val_loss: 2.6090 - val_acc: 0.5469\n",
            "Epoch 2/5\n",
            "73440/73440 [==============================] - 82s 1ms/step - loss: 0.1908 - acc: 0.9409 - val_loss: 1.9058 - val_acc: 0.6582\n",
            "Epoch 3/5\n",
            "73440/73440 [==============================] - 82s 1ms/step - loss: 0.1584 - acc: 0.9510 - val_loss: 0.5578 - val_acc: 0.8564\n",
            "Epoch 4/5\n",
            "73440/73440 [==============================] - 82s 1ms/step - loss: 0.1438 - acc: 0.9553 - val_loss: 0.3582 - val_acc: 0.8997\n",
            "Epoch 5/5\n",
            "73440/73440 [==============================] - 82s 1ms/step - loss: 0.1337 - acc: 0.9591 - val_loss: 0.7828 - val_acc: 0.8272\n",
            "=============================================================================\n",
            "{'optimizer': 'RMSprop', 'kernel_initializer': 'uniform', 'activation': 'tanh'}\n",
            "Train on 73440 samples, validate on 13360 samples\n",
            "Epoch 1/5\n",
            "73440/73440 [==============================] - 84s 1ms/step - loss: 0.4230 - acc: 0.8841 - val_loss: 0.8043 - val_acc: 0.7874\n",
            "Epoch 2/5\n",
            "73440/73440 [==============================] - 83s 1ms/step - loss: 0.1744 - acc: 0.9474 - val_loss: 1.0021 - val_acc: 0.7788\n",
            "Epoch 3/5\n",
            "73440/73440 [==============================] - 82s 1ms/step - loss: 0.1511 - acc: 0.9531 - val_loss: 0.4386 - val_acc: 0.8782\n",
            "Epoch 4/5\n",
            "73440/73440 [==============================] - 82s 1ms/step - loss: 0.1372 - acc: 0.9571 - val_loss: 3.2566 - val_acc: 0.3754\n",
            "Epoch 5/5\n",
            "73440/73440 [==============================] - 82s 1ms/step - loss: 0.1308 - acc: 0.9600 - val_loss: 0.4176 - val_acc: 0.8881\n",
            "=============================================================================\n",
            "{'optimizer': 'Adam', 'kernel_initializer': 'normal', 'activation': 'relu'}\n",
            "Train on 73440 samples, validate on 13360 samples\n",
            "Epoch 1/5\n",
            "73440/73440 [==============================] - 90s 1ms/step - loss: 0.3496 - acc: 0.9075 - val_loss: 6.2671 - val_acc: 0.2249\n",
            "Epoch 2/5\n",
            "73440/73440 [==============================] - 89s 1ms/step - loss: 0.1066 - acc: 0.9679 - val_loss: 0.2868 - val_acc: 0.9138\n",
            "Epoch 3/5\n",
            "73440/73440 [==============================] - 89s 1ms/step - loss: 0.0800 - acc: 0.9755 - val_loss: 0.1065 - val_acc: 0.9688\n",
            "Epoch 4/5\n",
            "73440/73440 [==============================] - 89s 1ms/step - loss: 0.0692 - acc: 0.9782 - val_loss: 0.0776 - val_acc: 0.9775\n",
            "Epoch 5/5\n",
            "73440/73440 [==============================] - 89s 1ms/step - loss: 0.0581 - acc: 0.9820 - val_loss: 0.2886 - val_acc: 0.9206\n",
            "=============================================================================\n",
            "{'optimizer': 'Adam', 'kernel_initializer': 'uniform', 'activation': 'relu'}\n",
            "Train on 73440 samples, validate on 13360 samples\n",
            "Epoch 1/5\n",
            "73440/73440 [==============================] - 92s 1ms/step - loss: 0.3284 - acc: 0.9116 - val_loss: 1.2440 - val_acc: 0.7041\n",
            "Epoch 2/5\n",
            "73440/73440 [==============================] - 90s 1ms/step - loss: 0.1081 - acc: 0.9666 - val_loss: 1.4073 - val_acc: 0.7209\n",
            "Epoch 3/5\n",
            "73440/73440 [==============================] - 90s 1ms/step - loss: 0.0826 - acc: 0.9748 - val_loss: 0.5529 - val_acc: 0.8179\n",
            "Epoch 4/5\n",
            "73440/73440 [==============================] - 90s 1ms/step - loss: 0.0669 - acc: 0.9794 - val_loss: 0.0744 - val_acc: 0.9786\n",
            "Epoch 5/5\n",
            "73440/73440 [==============================] - 90s 1ms/step - loss: 0.0618 - acc: 0.9812 - val_loss: 0.0576 - val_acc: 0.9831\n",
            "=============================================================================\n",
            "{'optimizer': 'Adam', 'kernel_initializer': 'normal', 'activation': 'linear'}\n",
            "Train on 73440 samples, validate on 13360 samples\n",
            "Epoch 1/5\n",
            "73440/73440 [==============================] - 91s 1ms/step - loss: 0.6370 - acc: 0.8235 - val_loss: 2.8734 - val_acc: 0.6292\n",
            "Epoch 2/5\n",
            "73440/73440 [==============================] - 88s 1ms/step - loss: 0.2778 - acc: 0.9138 - val_loss: 0.3445 - val_acc: 0.8853\n",
            "Epoch 3/5\n",
            "73440/73440 [==============================] - 88s 1ms/step - loss: 0.2002 - acc: 0.9372 - val_loss: 0.2580 - val_acc: 0.9189\n",
            "Epoch 4/5\n",
            "73440/73440 [==============================] - 89s 1ms/step - loss: 0.1637 - acc: 0.9491 - val_loss: 2.0659 - val_acc: 0.4595\n",
            "Epoch 5/5\n",
            "73440/73440 [==============================] - 88s 1ms/step - loss: 0.1404 - acc: 0.9550 - val_loss: 0.1368 - val_acc: 0.9581\n",
            "=============================================================================\n",
            "{'optimizer': 'Adam', 'kernel_initializer': 'uniform', 'activation': 'linear'}\n",
            "Train on 73440 samples, validate on 13360 samples\n",
            "Epoch 1/5\n",
            "73440/73440 [==============================] - 92s 1ms/step - loss: 0.5804 - acc: 0.8396 - val_loss: 0.9485 - val_acc: 0.7478\n",
            "Epoch 2/5\n",
            "73440/73440 [==============================] - 90s 1ms/step - loss: 0.2529 - acc: 0.9237 - val_loss: 8.6808 - val_acc: 0.1462\n",
            "Epoch 3/5\n",
            "73440/73440 [==============================] - 88s 1ms/step - loss: 0.1825 - acc: 0.9431 - val_loss: 0.2915 - val_acc: 0.9082\n",
            "Epoch 4/5\n",
            "73440/73440 [==============================] - 87s 1ms/step - loss: 0.1507 - acc: 0.9539 - val_loss: 0.2655 - val_acc: 0.9148\n",
            "Epoch 5/5\n",
            "73440/73440 [==============================] - 87s 1ms/step - loss: 0.1319 - acc: 0.9585 - val_loss: 0.5280 - val_acc: 0.8577\n",
            "=============================================================================\n",
            "{'optimizer': 'Adam', 'kernel_initializer': 'normal', 'activation': 'tanh'}\n",
            "Train on 73440 samples, validate on 13360 samples\n",
            "Epoch 1/5\n",
            "73440/73440 [==============================] - 92s 1ms/step - loss: 0.5181 - acc: 0.8634 - val_loss: 2.0401 - val_acc: 0.3782\n",
            "Epoch 2/5\n",
            "73440/73440 [==============================] - 89s 1ms/step - loss: 0.1895 - acc: 0.9414 - val_loss: 6.7160 - val_acc: 0.3058\n",
            "Epoch 3/5\n",
            "73440/73440 [==============================] - 87s 1ms/step - loss: 0.1503 - acc: 0.9522 - val_loss: 2.1043 - val_acc: 0.6128\n",
            "Epoch 4/5\n",
            "73440/73440 [==============================] - 89s 1ms/step - loss: 0.1358 - acc: 0.9579 - val_loss: 3.8762 - val_acc: 0.6211\n",
            "Epoch 5/5\n",
            "73440/73440 [==============================] - 89s 1ms/step - loss: 0.1225 - acc: 0.9610 - val_loss: 2.0894 - val_acc: 0.5716\n",
            "=============================================================================\n",
            "{'optimizer': 'Adam', 'kernel_initializer': 'uniform', 'activation': 'tanh'}\n",
            "Train on 73440 samples, validate on 13360 samples\n",
            "Epoch 1/5\n",
            "73440/73440 [==============================] - 93s 1ms/step - loss: 0.4551 - acc: 0.8800 - val_loss: 0.4224 - val_acc: 0.8805\n",
            "Epoch 2/5\n",
            "73440/73440 [==============================] - 90s 1ms/step - loss: 0.1675 - acc: 0.9494 - val_loss: 7.1558 - val_acc: 0.2093\n",
            "Epoch 3/5\n",
            "73440/73440 [==============================] - 89s 1ms/step - loss: 0.1372 - acc: 0.9566 - val_loss: 0.2988 - val_acc: 0.9068\n",
            "Epoch 4/5\n",
            "73440/73440 [==============================] - 90s 1ms/step - loss: 0.1215 - acc: 0.9623 - val_loss: 0.4133 - val_acc: 0.8790\n",
            "Epoch 5/5\n",
            "73440/73440 [==============================] - 89s 1ms/step - loss: 0.1142 - acc: 0.9644 - val_loss: 1.3391 - val_acc: 0.6110\n",
            "=============================================================================\n",
            "{'optimizer': 'Adagrad', 'kernel_initializer': 'normal', 'activation': 'relu'}\n",
            "Train on 73440 samples, validate on 13360 samples\n",
            "Epoch 1/5\n",
            "73440/73440 [==============================] - 87s 1ms/step - loss: 0.4422 - acc: 0.8875 - val_loss: 1.2394 - val_acc: 0.6644\n",
            "Epoch 2/5\n",
            "73440/73440 [==============================] - 83s 1ms/step - loss: 0.1884 - acc: 0.9509 - val_loss: 0.2345 - val_acc: 0.9350\n",
            "Epoch 3/5\n",
            "73440/73440 [==============================] - 83s 1ms/step - loss: 0.1396 - acc: 0.9618 - val_loss: 0.1238 - val_acc: 0.9647\n",
            "Epoch 4/5\n",
            "73440/73440 [==============================] - 83s 1ms/step - loss: 0.1167 - acc: 0.9677 - val_loss: 0.2001 - val_acc: 0.9427\n",
            "Epoch 5/5\n",
            "73440/73440 [==============================] - 83s 1ms/step - loss: 0.1036 - acc: 0.9707 - val_loss: 0.1052 - val_acc: 0.9710\n",
            "=============================================================================\n",
            "{'optimizer': 'Adagrad', 'kernel_initializer': 'uniform', 'activation': 'relu'}\n",
            "Train on 73440 samples, validate on 13360 samples\n",
            "Epoch 1/5\n",
            "73440/73440 [==============================] - 87s 1ms/step - loss: 0.3526 - acc: 0.9115 - val_loss: 0.1827 - val_acc: 0.9504\n",
            "Epoch 2/5\n",
            "73440/73440 [==============================] - 83s 1ms/step - loss: 0.1402 - acc: 0.9631 - val_loss: 0.1405 - val_acc: 0.9637\n",
            "Epoch 3/5\n",
            "73440/73440 [==============================] - 84s 1ms/step - loss: 0.1052 - acc: 0.9715 - val_loss: 0.1036 - val_acc: 0.9696\n",
            "Epoch 4/5\n",
            "73440/73440 [==============================] - 83s 1ms/step - loss: 0.0890 - acc: 0.9755 - val_loss: 0.0966 - val_acc: 0.9773\n",
            "Epoch 5/5\n",
            "73440/73440 [==============================] - 84s 1ms/step - loss: 0.0780 - acc: 0.9790 - val_loss: 0.0855 - val_acc: 0.9796\n",
            "=============================================================================\n",
            "{'optimizer': 'Adagrad', 'kernel_initializer': 'normal', 'activation': 'linear'}\n",
            "Train on 73440 samples, validate on 13360 samples\n",
            "Epoch 1/5\n",
            "73440/73440 [==============================] - 86s 1ms/step - loss: 0.7344 - acc: 0.8080 - val_loss: 0.6743 - val_acc: 0.8025\n",
            "Epoch 2/5\n",
            "73440/73440 [==============================] - 82s 1ms/step - loss: 0.4684 - acc: 0.8702 - val_loss: 0.5411 - val_acc: 0.8420\n",
            "Epoch 3/5\n",
            "73440/73440 [==============================] - 84s 1ms/step - loss: 0.3942 - acc: 0.8899 - val_loss: 0.4227 - val_acc: 0.8801\n",
            "Epoch 4/5\n",
            "73440/73440 [==============================] - 88s 1ms/step - loss: 0.3465 - acc: 0.9031 - val_loss: 0.3989 - val_acc: 0.8791\n",
            "Epoch 5/5\n",
            "73440/73440 [==============================] - 85s 1ms/step - loss: 0.3127 - acc: 0.9124 - val_loss: 0.4164 - val_acc: 0.8647\n",
            "=============================================================================\n",
            "{'optimizer': 'Adagrad', 'kernel_initializer': 'uniform', 'activation': 'linear'}\n",
            "Train on 73440 samples, validate on 13360 samples\n",
            "Epoch 1/5\n",
            "73440/73440 [==============================] - 88s 1ms/step - loss: 0.6657 - acc: 0.8253 - val_loss: 0.6107 - val_acc: 0.8263\n",
            "Epoch 2/5\n",
            "73440/73440 [==============================] - 84s 1ms/step - loss: 0.4114 - acc: 0.8864 - val_loss: 0.5026 - val_acc: 0.8509\n",
            "Epoch 3/5\n",
            "73440/73440 [==============================] - 83s 1ms/step - loss: 0.3377 - acc: 0.9060 - val_loss: 0.3457 - val_acc: 0.9032\n",
            "Epoch 4/5\n",
            "73440/73440 [==============================] - 84s 1ms/step - loss: 0.2942 - acc: 0.9185 - val_loss: 0.3007 - val_acc: 0.9116\n",
            "Epoch 5/5\n",
            "73440/73440 [==============================] - 83s 1ms/step - loss: 0.2638 - acc: 0.9275 - val_loss: 0.3070 - val_acc: 0.9059\n",
            "=============================================================================\n",
            "{'optimizer': 'Adagrad', 'kernel_initializer': 'normal', 'activation': 'tanh'}\n",
            "Train on 73440 samples, validate on 13360 samples\n",
            "Epoch 1/5\n",
            "73440/73440 [==============================] - 88s 1ms/step - loss: 0.6322 - acc: 0.8420 - val_loss: 0.7225 - val_acc: 0.7845\n",
            "Epoch 2/5\n",
            "73440/73440 [==============================] - 86s 1ms/step - loss: 0.3128 - acc: 0.9185 - val_loss: 0.6741 - val_acc: 0.8092\n",
            "Epoch 3/5\n",
            "73440/73440 [==============================] - 85s 1ms/step - loss: 0.2363 - acc: 0.9372 - val_loss: 0.5194 - val_acc: 0.8432\n",
            "Epoch 4/5\n",
            "73440/73440 [==============================] - 86s 1ms/step - loss: 0.1975 - acc: 0.9462 - val_loss: 0.4444 - val_acc: 0.8707\n",
            "Epoch 5/5\n",
            "73440/73440 [==============================] - 86s 1ms/step - loss: 0.1727 - acc: 0.9527 - val_loss: 0.3372 - val_acc: 0.8906\n",
            "=============================================================================\n",
            "{'optimizer': 'Adagrad', 'kernel_initializer': 'uniform', 'activation': 'tanh'}\n",
            "Train on 73440 samples, validate on 13360 samples\n",
            "Epoch 1/5\n",
            "73440/73440 [==============================] - 90s 1ms/step - loss: 0.5182 - acc: 0.8685 - val_loss: 0.7889 - val_acc: 0.7621\n",
            "Epoch 2/5\n",
            "73440/73440 [==============================] - 86s 1ms/step - loss: 0.2390 - acc: 0.9377 - val_loss: 0.5195 - val_acc: 0.8433\n",
            "Epoch 3/5\n",
            "73440/73440 [==============================] - 85s 1ms/step - loss: 0.1814 - acc: 0.9515 - val_loss: 0.2427 - val_acc: 0.9240\n",
            "Epoch 4/5\n",
            "73440/73440 [==============================] - 85s 1ms/step - loss: 0.1508 - acc: 0.9596 - val_loss: 0.2552 - val_acc: 0.9205\n",
            "Epoch 5/5\n",
            "73440/73440 [==============================] - 85s 1ms/step - loss: 0.1354 - acc: 0.9627 - val_loss: 0.1798 - val_acc: 0.9451\n",
            "=============================================================================\n",
            "{'optimizer': 'Nadam', 'kernel_initializer': 'normal', 'activation': 'relu'}\n",
            "Train on 73440 samples, validate on 13360 samples\n",
            "Epoch 1/5\n",
            "73440/73440 [==============================] - 102s 1ms/step - loss: 0.2761 - acc: 0.9219 - val_loss: 0.1491 - val_acc: 0.9564\n",
            "Epoch 2/5\n",
            "73440/73440 [==============================] - 99s 1ms/step - loss: 0.1010 - acc: 0.9686 - val_loss: 0.2383 - val_acc: 0.9087\n",
            "Epoch 3/5\n",
            "73440/73440 [==============================] - 98s 1ms/step - loss: 0.0823 - acc: 0.9745 - val_loss: 0.1861 - val_acc: 0.9542\n",
            "Epoch 4/5\n",
            "73440/73440 [==============================] - 98s 1ms/step - loss: 0.0711 - acc: 0.9775 - val_loss: 0.2912 - val_acc: 0.9115\n",
            "Epoch 5/5\n",
            "73440/73440 [==============================] - 98s 1ms/step - loss: 0.0644 - acc: 0.9803 - val_loss: 1.5884 - val_acc: 0.7040\n",
            "=============================================================================\n",
            "{'optimizer': 'Nadam', 'kernel_initializer': 'uniform', 'activation': 'relu'}\n",
            "Train on 73440 samples, validate on 13360 samples\n",
            "Epoch 1/5\n",
            "73440/73440 [==============================] - 103s 1ms/step - loss: 0.2668 - acc: 0.9253 - val_loss: 1.5238 - val_acc: 0.7397\n",
            "Epoch 2/5\n",
            "73440/73440 [==============================] - 98s 1ms/step - loss: 0.1046 - acc: 0.9674 - val_loss: 0.1860 - val_acc: 0.9345\n",
            "Epoch 3/5\n",
            "73440/73440 [==============================] - 96s 1ms/step - loss: 0.0821 - acc: 0.9743 - val_loss: 1.4487 - val_acc: 0.6641\n",
            "Epoch 4/5\n",
            "73440/73440 [==============================] - 96s 1ms/step - loss: 0.0736 - acc: 0.9772 - val_loss: 0.4209 - val_acc: 0.8993\n",
            "Epoch 5/5\n",
            "73440/73440 [==============================] - 96s 1ms/step - loss: 0.0671 - acc: 0.9787 - val_loss: 0.1993 - val_acc: 0.9399\n",
            "=============================================================================\n",
            "{'optimizer': 'Nadam', 'kernel_initializer': 'normal', 'activation': 'linear'}\n",
            "Train on 73440 samples, validate on 13360 samples\n",
            "Epoch 1/5\n",
            "73440/73440 [==============================] - 100s 1ms/step - loss: 0.5131 - acc: 0.8516 - val_loss: 6.4008 - val_acc: 0.1222\n",
            "Epoch 2/5\n",
            "73440/73440 [==============================] - 97s 1ms/step - loss: 0.2208 - acc: 0.9295 - val_loss: 0.8846 - val_acc: 0.7870\n",
            "Epoch 3/5\n",
            "73440/73440 [==============================] - 105s 1ms/step - loss: 0.1642 - acc: 0.9481 - val_loss: 0.2441 - val_acc: 0.9202\n",
            "Epoch 4/5\n",
            "73440/73440 [==============================] - 101s 1ms/step - loss: 0.1412 - acc: 0.9546 - val_loss: 5.7308 - val_acc: 0.2032\n",
            "Epoch 5/5\n",
            "73440/73440 [==============================] - 96s 1ms/step - loss: 0.1227 - acc: 0.9603 - val_loss: 3.0600 - val_acc: 0.7353\n",
            "=============================================================================\n",
            "{'optimizer': 'Nadam', 'kernel_initializer': 'uniform', 'activation': 'linear'}\n",
            "Train on 73440 samples, validate on 13360 samples\n",
            "Epoch 1/5\n",
            "73440/73440 [==============================] - 102s 1ms/step - loss: 0.4945 - acc: 0.8586 - val_loss: 7.1451 - val_acc: 0.3430\n",
            "Epoch 2/5\n",
            "73440/73440 [==============================] - 97s 1ms/step - loss: 0.2141 - acc: 0.9326 - val_loss: 0.9167 - val_acc: 0.7728\n",
            "Epoch 3/5\n",
            "73440/73440 [==============================] - 97s 1ms/step - loss: 0.1628 - acc: 0.9480 - val_loss: 3.7391 - val_acc: 0.7296\n",
            "Epoch 4/5\n",
            "73440/73440 [==============================] - 96s 1ms/step - loss: 0.1380 - acc: 0.9554 - val_loss: 0.1289 - val_acc: 0.9596\n",
            "Epoch 5/5\n",
            "73440/73440 [==============================] - 97s 1ms/step - loss: 0.1233 - acc: 0.9607 - val_loss: 1.4198 - val_acc: 0.6144\n",
            "=============================================================================\n",
            "{'optimizer': 'Nadam', 'kernel_initializer': 'normal', 'activation': 'tanh'}\n",
            "Train on 73440 samples, validate on 13360 samples\n",
            "Epoch 1/5\n",
            "73440/73440 [==============================] - 104s 1ms/step - loss: 0.4371 - acc: 0.8779 - val_loss: 2.2470 - val_acc: 0.5817\n",
            "Epoch 2/5\n",
            "73440/73440 [==============================] - 99s 1ms/step - loss: 0.2140 - acc: 0.9309 - val_loss: 9.5446 - val_acc: 0.0624\n",
            "Epoch 3/5\n",
            "73440/73440 [==============================] - 98s 1ms/step - loss: 0.1971 - acc: 0.9371 - val_loss: 1.6289 - val_acc: 0.5686\n",
            "Epoch 4/5\n",
            "73440/73440 [==============================] - 99s 1ms/step - loss: 0.1771 - acc: 0.9431 - val_loss: 0.4576 - val_acc: 0.8562\n",
            "Epoch 5/5\n",
            "73440/73440 [==============================] - 98s 1ms/step - loss: 0.1667 - acc: 0.9460 - val_loss: 0.1962 - val_acc: 0.9391\n",
            "=============================================================================\n",
            "{'optimizer': 'Nadam', 'kernel_initializer': 'uniform', 'activation': 'tanh'}\n",
            "Train on 73440 samples, validate on 13360 samples\n",
            "Epoch 1/5\n",
            "73440/73440 [==============================] - 105s 1ms/step - loss: 0.3933 - acc: 0.8903 - val_loss: 6.5998 - val_acc: 0.1526\n",
            "Epoch 2/5\n",
            "73440/73440 [==============================] - 98s 1ms/step - loss: 0.2030 - acc: 0.9367 - val_loss: 5.0520 - val_acc: 0.4349\n",
            "Epoch 3/5\n",
            "73440/73440 [==============================] - 99s 1ms/step - loss: 0.1776 - acc: 0.9434 - val_loss: 0.7476 - val_acc: 0.7984\n",
            "Epoch 4/5\n",
            "73440/73440 [==============================] - 99s 1ms/step - loss: 0.1678 - acc: 0.9457 - val_loss: 0.8716 - val_acc: 0.7469\n",
            "Epoch 5/5\n",
            "73440/73440 [==============================] - 98s 1ms/step - loss: 0.1530 - acc: 0.9510 - val_loss: 2.0540 - val_acc: 0.5690\n",
            "=============================================================================\n"
          ]
        }
      ],
      "source": [
        "epochs = 5\n",
        "batch_size = 20 # 20 divides the training data samples\n",
        "\n",
        "#creating the models with different hyperparameters\n",
        "for a,b,c in [(x,y,z) for x in optimizer for z in activation for y in kernel_initializer]:\n",
        "    params = {'optimizer' : a , 'kernel_initializer' : b , 'activation' : c}\n",
        "    print(params)\n",
        "    curr_model = create_model(a, b, c)\n",
        "    curr_model.fit(training_data_images, training_data_labels, \n",
        "                    validation_data=(testing_data_images, testing_data_labels),\n",
        "                    epochs=epochs, batch_size=batch_size, verbose=1)\n",
        "    print(\"=============================================================================\")"
      ]
    },
    {
      "cell_type": "markdown",
      "metadata": {
        "colab_type": "text",
        "id": "TgVoF_U9ifx0"
      },
      "source": [
        "**From the above results we can see that best parameters are:**\n",
        "* **Optimizer: Adam**\n",
        "* **Kernel_initializer: uniform**\n",
        "* **Activation: relu** "
      ]
    },
    {
      "cell_type": "markdown",
      "metadata": {
        "colab_type": "text",
        "id": "Nt9JJvWzjKpf"
      },
      "source": [
        "Let's create the model with the best parameters obtained."
      ]
    },
    {
      "cell_type": "code",
      "execution_count": 28,
      "metadata": {
        "colab": {},
        "colab_type": "code",
        "id": "TQ61tTgthNX3"
      },
      "outputs": [],
      "source": [
        "model = create_model(optimizer='Adam', kernel_initializer='uniform', activation='relu')"
      ]
    },
    {
      "cell_type": "markdown",
      "metadata": {
        "colab_type": "text",
        "id": "SAyJLJOsJdKY"
      },
      "source": [
        "## Training the Model\n"
      ]
    },
    {
      "cell_type": "markdown",
      "metadata": {
        "colab_type": "text",
        "id": "9REBW24cmdKI"
      },
      "source": [
        "### Fitting the Model"
      ]
    },
    {
      "cell_type": "markdown",
      "metadata": {
        "colab_type": "text",
        "id": "i8GiTDtRkZTp"
      },
      "source": [
        "Train the model using batch_size=20 to reduce used memory and make the training more quick.\n",
        "We will train the model first on 10 epochs to see the accuracy that we will obtain."
      ]
    },
    {
      "cell_type": "code",
      "execution_count": null,
      "metadata": {
        "colab": {
          "base_uri": "https://localhost:8080/",
          "height": 734
        },
        "colab_type": "code",
        "id": "fOtKJTQ51qC5",
        "outputId": "7cad5b4b-6c0d-467a-d3e8-b39cf0fb08a9"
      },
      "outputs": [
        {
          "name": "stdout",
          "output_type": "stream",
          "text": [
            "Train on 73440 samples, validate on 13360 samples\n",
            "Epoch 1/10\n",
            "73440/73440 [==============================] - 94s 1ms/step - loss: 0.3189 - acc: 0.9153 - val_loss: 10.5339 - val_acc: 0.1437\n",
            "\n",
            "Epoch 00001: val_loss improved from inf to 10.53390, saving model to weights.hdf5\n",
            "Epoch 2/10\n",
            "73440/73440 [==============================] - 89s 1ms/step - loss: 0.1049 - acc: 0.9681 - val_loss: 0.3283 - val_acc: 0.9012\n",
            "\n",
            "Epoch 00002: val_loss improved from 10.53390 to 0.32826, saving model to weights.hdf5\n",
            "Epoch 3/10\n",
            "73440/73440 [==============================] - 90s 1ms/step - loss: 0.0797 - acc: 0.9757 - val_loss: 0.6523 - val_acc: 0.7985\n",
            "\n",
            "Epoch 00003: val_loss did not improve from 0.32826\n",
            "Epoch 4/10\n",
            "73440/73440 [==============================] - 89s 1ms/step - loss: 0.0702 - acc: 0.9782 - val_loss: 0.2071 - val_acc: 0.9394\n",
            "\n",
            "Epoch 00004: val_loss improved from 0.32826 to 0.20706, saving model to weights.hdf5\n",
            "Epoch 5/10\n",
            "73440/73440 [==============================] - 89s 1ms/step - loss: 0.0592 - acc: 0.9811 - val_loss: 0.0752 - val_acc: 0.9769\n",
            "\n",
            "Epoch 00005: val_loss improved from 0.20706 to 0.07522, saving model to weights.hdf5\n",
            "Epoch 6/10\n",
            "73440/73440 [==============================] - 89s 1ms/step - loss: 0.0545 - acc: 0.9833 - val_loss: 0.9768 - val_acc: 0.6818\n",
            "\n",
            "Epoch 00006: val_loss did not improve from 0.07522\n",
            "Epoch 7/10\n",
            "73440/73440 [==============================] - 88s 1ms/step - loss: 0.0497 - acc: 0.9845 - val_loss: 0.1118 - val_acc: 0.9671\n",
            "\n",
            "Epoch 00007: val_loss did not improve from 0.07522\n",
            "Epoch 8/10\n",
            "73440/73440 [==============================] - 89s 1ms/step - loss: 0.0473 - acc: 0.9854 - val_loss: 0.0576 - val_acc: 0.9829\n",
            "\n",
            "Epoch 00008: val_loss improved from 0.07522 to 0.05756, saving model to weights.hdf5\n",
            "Epoch 9/10\n",
            "73440/73440 [==============================] - 89s 1ms/step - loss: 0.0453 - acc: 0.9863 - val_loss: 0.0800 - val_acc: 0.9767\n",
            "\n",
            "Epoch 00009: val_loss did not improve from 0.05756\n",
            "Epoch 10/10\n",
            "73440/73440 [==============================] - 89s 1ms/step - loss: 0.0432 - acc: 0.9862 - val_loss: 0.2793 - val_acc: 0.9097\n",
            "\n",
            "Epoch 00010: val_loss did not improve from 0.05756\n"
          ]
        }
      ],
      "source": [
        "from keras.callbacks import ModelCheckpoint  \n",
        "\n",
        "# using checkpoints to save model weights to be used later instead of training again on the same epochs.\n",
        "checkpointer = ModelCheckpoint(filepath='weights.hdf5', verbose=1, save_best_only=True)\n",
        "history = model.fit(training_data_images, training_data_labels, \n",
        "                    validation_data=(testing_data_images, testing_data_labels),\n",
        "                    epochs=10, batch_size=20, verbose=1, callbacks=[checkpointer])"
      ]
    },
    {
      "cell_type": "markdown",
      "metadata": {
        "colab_type": "text",
        "id": "etE1oULFCnSn"
      },
      "source": [
        "### Plotting Loss and Accuracy Curves with Epochs"
      ]
    },
    {
      "cell_type": "code",
      "execution_count": null,
      "metadata": {
        "colab": {},
        "colab_type": "code",
        "id": "ZWyxaeKxCn9O"
      },
      "outputs": [],
      "source": [
        "import matplotlib.pyplot as plt\n",
        "\n",
        "def plot_loss_accuracy(history):\n",
        "  # Loss Curves\n",
        "  plt.figure(figsize=[8,6])\n",
        "  plt.plot(history.history['loss'],'r',linewidth=3.0)\n",
        "  plt.plot(history.history['val_loss'],'b',linewidth=3.0)\n",
        "  plt.legend(['Training loss', 'Validation Loss'],fontsize=18)\n",
        "  plt.xlabel('Epochs ',fontsize=16)\n",
        "  plt.ylabel('Loss',fontsize=16)\n",
        "  plt.title('Loss Curves',fontsize=16)\n",
        "\n",
        "  # Accuracy Curves\n",
        "  plt.figure(figsize=[8,6])\n",
        "  plt.plot(history.history['acc'],'r',linewidth=3.0)\n",
        "  plt.plot(history.history['val_acc'],'b',linewidth=3.0)\n",
        "  plt.legend(['Training Accuracy', 'Validation Accuracy'],fontsize=18)\n",
        "  plt.xlabel('Epochs ',fontsize=16)\n",
        "  plt.ylabel('Accuracy',fontsize=16)\n",
        "  plt.title('Accuracy Curves',fontsize=16) "
      ]
    },
    {
      "cell_type": "code",
      "execution_count": null,
      "metadata": {
        "colab": {
          "base_uri": "https://localhost:8080/",
          "height": 805
        },
        "colab_type": "code",
        "id": "LE9WKyG7GNSs",
        "outputId": "d610c15c-18ac-428c-9193-40a87bccce15"
      },
      "outputs": [
        {
          "data": {
            "image/png": "[encoded data removed]",
            "text/plain": [
              "<matplotlib.figure.Figure at 0x7fa74977aac8>"
            ]
          },
          "metadata": {
            "tags": []
          },
          "output_type": "display_data"
        },
        {
          "data": {
            "image/png": "[encoded data removed]",
            "text/plain": [
              "<matplotlib.figure.Figure at 0x7fa748f28630>"
            ]
          },
          "metadata": {
            "tags": []
          },
          "output_type": "display_data"
        }
      ],
      "source": [
        "plot_loss_accuracy(history)"
      ]
    },
    {
      "cell_type": "markdown",
      "metadata": {
        "colab_type": "text",
        "id": "p8QOKiQpmWDC"
      },
      "source": [
        "### Load the Model with the Best Validation Loss\n"
      ]
    },
    {
      "cell_type": "code",
      "execution_count": null,
      "metadata": {
        "colab": {},
        "colab_type": "code",
        "id": "OUunssvzmQUb"
      },
      "outputs": [],
      "source": [
        "model.load_weights('weights.hdf5')"
      ]
    },
    {
      "cell_type": "markdown",
      "metadata": {
        "colab_type": "text",
        "id": "Aijsry3Xmmv-"
      },
      "source": [
        "## Test the Model\n"
      ]
    },
    {
      "cell_type": "code",
      "execution_count": null,
      "metadata": {
        "colab": {
          "base_uri": "https://localhost:8080/",
          "height": 68
        },
        "colab_type": "code",
        "id": "8h7E8G7CsCFB",
        "outputId": "ce7d4c98-e32c-4d49-8c4d-4a7bef7f3c30"
      },
      "outputs": [
        {
          "name": "stdout",
          "output_type": "stream",
          "text": [
            "13360/13360 [==============================] - 5s 343us/step\n",
            "Test Accuracy: 0.9828592814371258\n",
            "Test Loss: 0.05756271482567684\n"
          ]
        }
      ],
      "source": [
        "# Final evaluation of the model\n",
        "metrics = model.evaluate(testing_data_images, testing_data_labels, verbose=1)\n",
        "print(\"Test Accuracy: {}\".format(metrics[1]))\n",
        "print(\"Test Loss: {}\".format(metrics[0]))"
      ]
    },
    {
      "cell_type": "markdown",
      "metadata": {
        "colab_type": "text",
        "id": "Xz04uhKPnFft"
      },
      "source": [
        "**We get test accuracy of 98.286% after training on 10 epochs only.**\n",
        "\n",
        "**What about increasing the epochs we train on ?**"
      ]
    },
    {
      "cell_type": "markdown",
      "metadata": {
        "colab_type": "text",
        "id": "Rit6CswqnrEC"
      },
      "source": [
        "## Training More on the best model"
      ]
    },
    {
      "cell_type": "code",
      "execution_count": null,
      "metadata": {
        "colab": {
          "base_uri": "https://localhost:8080/",
          "height": 2202
        },
        "colab_type": "code",
        "id": "BZAP7VW1npA-",
        "outputId": "0fc06279-2faa-4d2b-f358-edda4c304338"
      },
      "outputs": [
        {
          "name": "stdout",
          "output_type": "stream",
          "text": [
            "Train on 73440 samples, validate on 13360 samples\n",
            "Epoch 1/20\n",
            "73440/73440 [==============================] - 89s 1ms/step - loss: 0.0447 - acc: 0.9859 - val_loss: 0.4244 - val_acc: 0.8557\n",
            "\n",
            "Epoch 00001: val_loss improved from inf to 0.42443, saving model to weights.hdf5\n",
            "Epoch 2/20\n",
            "73440/73440 [==============================] - 89s 1ms/step - loss: 0.0414 - acc: 0.9863 - val_loss: 0.0576 - val_acc: 0.9830\n",
            "\n",
            "Epoch 00002: val_loss improved from 0.42443 to 0.05760, saving model to weights.hdf5\n",
            "Epoch 3/20\n",
            "73440/73440 [==============================] - 89s 1ms/step - loss: 0.0396 - acc: 0.9872 - val_loss: 0.0546 - val_acc: 0.9844\n",
            "\n",
            "Epoch 00003: val_loss improved from 0.05760 to 0.05457, saving model to weights.hdf5\n",
            "Epoch 4/20\n",
            "73440/73440 [==============================] - 89s 1ms/step - loss: 0.0400 - acc: 0.9875 - val_loss: 0.4204 - val_acc: 0.8711\n",
            "\n",
            "Epoch 00004: val_loss did not improve from 0.05457\n",
            "Epoch 5/20\n",
            "73440/73440 [==============================] - 89s 1ms/step - loss: 0.0367 - acc: 0.9881 - val_loss: 2.2243 - val_acc: 0.5124\n",
            "\n",
            "Epoch 00005: val_loss did not improve from 0.05457\n",
            "Epoch 6/20\n",
            "73440/73440 [==============================] - 89s 1ms/step - loss: 0.0366 - acc: 0.9881 - val_loss: 0.0553 - val_acc: 0.9842\n",
            "\n",
            "Epoch 00006: val_loss did not improve from 0.05457\n",
            "Epoch 7/20\n",
            "73440/73440 [==============================] - 89s 1ms/step - loss: 0.0349 - acc: 0.9889 - val_loss: 0.0449 - val_acc: 0.9877\n",
            "\n",
            "Epoch 00007: val_loss improved from 0.05457 to 0.04494, saving model to weights.hdf5\n",
            "Epoch 8/20\n",
            "73440/73440 [==============================] - 89s 1ms/step - loss: 0.0320 - acc: 0.9895 - val_loss: 0.0504 - val_acc: 0.9858\n",
            "\n",
            "Epoch 00008: val_loss did not improve from 0.04494\n",
            "Epoch 9/20\n",
            "73440/73440 [==============================] - 89s 1ms/step - loss: 0.0326 - acc: 0.9897 - val_loss: 0.1189 - val_acc: 0.9697\n",
            "\n",
            "Epoch 00009: val_loss did not improve from 0.04494\n",
            "Epoch 10/20\n",
            "73440/73440 [==============================] - 89s 1ms/step - loss: 0.0300 - acc: 0.9904 - val_loss: 0.0488 - val_acc: 0.9871\n",
            "\n",
            "Epoch 00010: val_loss did not improve from 0.04494\n",
            "Epoch 11/20\n",
            "73440/73440 [==============================] - 89s 1ms/step - loss: 0.0309 - acc: 0.9899 - val_loss: 0.0511 - val_acc: 0.9853\n",
            "\n",
            "Epoch 00011: val_loss did not improve from 0.04494\n",
            "Epoch 12/20\n",
            "73440/73440 [==============================] - 89s 1ms/step - loss: 0.0294 - acc: 0.9907 - val_loss: 0.0419 - val_acc: 0.9886\n",
            "\n",
            "Epoch 00012: val_loss improved from 0.04494 to 0.04191, saving model to weights.hdf5\n",
            "Epoch 13/20\n",
            "73440/73440 [==============================] - 89s 1ms/step - loss: 0.0288 - acc: 0.9906 - val_loss: 2.7113 - val_acc: 0.7689\n",
            "\n",
            "Epoch 00013: val_loss did not improve from 0.04191\n",
            "Epoch 14/20\n",
            "73440/73440 [==============================] - 89s 1ms/step - loss: 0.0277 - acc: 0.9911 - val_loss: 0.0617 - val_acc: 0.9846\n",
            "\n",
            "Epoch 00014: val_loss did not improve from 0.04191\n",
            "Epoch 15/20\n",
            "73440/73440 [==============================] - 89s 1ms/step - loss: 0.0258 - acc: 0.9918 - val_loss: 0.0939 - val_acc: 0.9754\n",
            "\n",
            "Epoch 00015: val_loss did not improve from 0.04191\n",
            "Epoch 16/20\n",
            "73440/73440 [==============================] - 89s 1ms/step - loss: 0.0265 - acc: 0.9912 - val_loss: 0.2457 - val_acc: 0.9448\n",
            "\n",
            "Epoch 00016: val_loss did not improve from 0.04191\n",
            "Epoch 17/20\n",
            "73440/73440 [==============================] - 89s 1ms/step - loss: 0.0251 - acc: 0.9918 - val_loss: 0.0505 - val_acc: 0.9866\n",
            "\n",
            "Epoch 00017: val_loss did not improve from 0.04191\n",
            "Epoch 18/20\n",
            "73440/73440 [==============================] - 89s 1ms/step - loss: 0.0271 - acc: 0.9916 - val_loss: 0.0441 - val_acc: 0.9883\n",
            "\n",
            "Epoch 00018: val_loss did not improve from 0.04191\n",
            "Epoch 19/20\n",
            "73440/73440 [==============================] - 89s 1ms/step - loss: 0.0251 - acc: 0.9917 - val_loss: 0.5342 - val_acc: 0.8984\n",
            "\n",
            "Epoch 00019: val_loss did not improve from 0.04191\n",
            "Epoch 20/20\n",
            "73440/73440 [==============================] - 89s 1ms/step - loss: 0.0239 - acc: 0.9925 - val_loss: 0.0499 - val_acc: 0.9877\n",
            "\n",
            "Epoch 00020: val_loss did not improve from 0.04191\n"
          ]
        },
        {
          "data": {
            "image/png": "[encoded data removed]",
            "text/plain": [
              "<matplotlib.figure.Figure at 0x7fa74b8b1ac8>"
            ]
          },
          "metadata": {
            "tags": []
          },
          "output_type": "display_data"
        },
        {
          "data": {
            "image/png": "[encoded data removed]",
            "text/plain": [
              "<matplotlib.figure.Figure at 0x7fa748e4bcc0>"
            ]
          },
          "metadata": {
            "tags": []
          },
          "output_type": "display_data"
        }
      ],
      "source": [
        "epochs = 20\n",
        "batch_size = 20\n",
        "\n",
        "checkpointer = ModelCheckpoint(filepath='weights.hdf5', verbose=1, save_best_only=True)\n",
        "\n",
        "history = model.fit(training_data_images, training_data_labels, \n",
        "                    validation_data=(testing_data_images, testing_data_labels),\n",
        "                    epochs=epochs, batch_size=batch_size, verbose=1, callbacks=[checkpointer])\n",
        "          \n",
        "model.load_weights('weights.hdf5')\n",
        "plot_loss_accuracy(history)"
      ]
    },
    {
      "cell_type": "code",
      "execution_count": null,
      "metadata": {
        "colab": {
          "base_uri": "https://localhost:8080/",
          "height": 805
        },
        "colab_type": "code",
        "id": "c8GWs-8bNsxR",
        "outputId": "acef3123-a33c-49bc-f759-5ce10a9d50a7"
      },
      "outputs": [
        {
          "data": {
            "image/png": "[encoded data removed]",
            "text/plain": [
              "<matplotlib.figure.Figure at 0x7fa748ea72e8>"
            ]
          },
          "metadata": {
            "tags": []
          },
          "output_type": "display_data"
        },
        {
          "data": {
            "image/png": "[encoded data removed]",
            "text/plain": [
              "<matplotlib.figure.Figure at 0x7fa748d77320>"
            ]
          },
          "metadata": {
            "tags": []
          },
          "output_type": "display_data"
        }
      ],
      "source": [
        "plot_loss_accuracy(history)"
      ]
    },
    {
      "cell_type": "markdown",
      "metadata": {
        "colab_type": "text",
        "id": "RC6yRcCHoMa7"
      },
      "source": [
        "## Testing the Model again"
      ]
    },
    {
      "cell_type": "code",
      "execution_count": null,
      "metadata": {
        "colab": {
          "base_uri": "https://localhost:8080/",
          "height": 68
        },
        "colab_type": "code",
        "id": "Bm5y2MgXoP3F",
        "outputId": "4c262179-d450-4c3e-e621-a86814f8caa7"
      },
      "outputs": [
        {
          "name": "stdout",
          "output_type": "stream",
          "text": [
            "13360/13360 [==============================] - 5s 346us/step\n",
            "Test Accuracy: 0.988622754491018\n",
            "Test Loss: 0.04191313635113142\n"
          ]
        }
      ],
      "source": [
        "# Final evaluation of the model\n",
        "metrics = model.evaluate(testing_data_images, testing_data_labels, verbose=1)\n",
        "print(\"Test Accuracy: {}\".format(metrics[1]))\n",
        "print(\"Test Loss: {}\".format(metrics[0]))"
      ]
    },
    {
      "cell_type": "markdown",
      "metadata": {
        "colab_type": "text",
        "id": "3cVhqFs8oYwz"
      },
      "source": [
        "After training the model on more epochs we gained a better model which can classify complex patterns . So when we tested it on our test dataset we had better results than before.\n",
        "\n",
        "**Test accuracy is improved from 98.286% to 98.862% As we train the model on 20 more epochs.**\n",
        "\n"
      ]
    },
    {
      "cell_type": "markdown",
      "metadata": {
        "colab_type": "text",
        "id": "RUes2bqFqycc"
      },
      "source": [
        "## Saving the Final Model"
      ]
    },
    {
      "cell_type": "markdown",
      "metadata": {
        "colab_type": "text",
        "id": "dA6vbYZKp0bB"
      },
      "source": [
        "Let's save the model on json format to be used later instead of creating the model again from scratch."
      ]
    },
    {
      "cell_type": "code",
      "execution_count": 23,
      "metadata": {
        "colab": {},
        "colab_type": "code",
        "id": "ZtanngD4oPgv"
      },
      "outputs": [],
      "source": [
        "from keras.models import model_from_yaml"
      ]
    },
    {
      "cell_type": "code",
      "execution_count": 29,
      "metadata": {
        "colab": {},
        "colab_type": "code",
        "id": "EVsTrDhop_XA"
      },
      "outputs": [],
      "source": [
        "model_yaml = model.to_yaml()\n",
        "with open(\"model.yaml\", \"w\") as yaml_file:\n",
        "    yaml_file.write(model_yaml)"
      ]
    },
    {
      "cell_type": "markdown",
      "metadata": {
        "colab_type": "text",
        "id": "ozgwPPrArhoY"
      },
      "source": [
        "Save the model weights to file."
      ]
    },
    {
      "cell_type": "code",
      "execution_count": null,
      "metadata": {
        "colab": {
          "base_uri": "https://localhost:8080/",
          "height": 34
        },
        "colab_type": "code",
        "id": "jAVASfDAo_lN",
        "outputId": "efc9bb9b-444a-4191-a15f-9fed644fef7f"
      },
      "outputs": [
        {
          "name": "stdout",
          "output_type": "stream",
          "text": [
            "Saved model to disk\n"
          ]
        }
      ],
      "source": [
        "# serialize weights to HDF5\n",
        "model.save_weights(\"model.h5\")\n",
        "print(\"Saved model to disk\")"
      ]
    },
    {
      "cell_type": "markdown",
      "metadata": {
        "colab_type": "text",
        "id": "xv1bAB-ur15m"
      },
      "source": [
        "if we want to load the model with the last obtained weights at anytime, we will run the following code cell."
      ]
    },
    {
      "cell_type": "code",
      "execution_count": 30,
      "metadata": {
        "colab": {
          "base_uri": "https://localhost:8080/",
          "height": 34
        },
        "colab_type": "code",
        "id": "xD9ogMjqsCvJ",
        "outputId": "de36a321-39bd-41fc-df6a-895f579646a9"
      },
      "outputs": [
        {
          "name": "stdout",
          "output_type": "stream",
          "text": [
            "Loaded model from disk\n"
          ]
        }
      ],
      "source": [
        "# load YAML and create model\n",
        "yaml_file = open('model.yaml', 'r')\n",
        "loaded_model_yaml = yaml_file.read()\n",
        "yaml_file.close()\n",
        "loaded_model = model_from_yaml(loaded_model_yaml)\n",
        "# load weights into new model\n",
        "loaded_model.load_weights(\"model.h5\")\n",
        "print(\"Loaded model from disk\")\n",
        " \n",
        "# compile the loaded model\n",
        "loaded_model.compile(loss='binary_crossentropy', optimizer='Adam', metrics=['accuracy'])"
      ]
    },
    {
      "cell_type": "markdown",
      "metadata": {
        "colab_type": "text",
        "id": "bvOiQNT-u6DQ"
      },
      "source": [
        "## Benchmark Model"
      ]
    },
    {
      "cell_type": "markdown",
      "metadata": {
        "colab_type": "text",
        "id": "VljY9PAbwWfo"
      },
      "source": [
        "We will use a very simple (vanilla) CNN model as benchmark and Train/test it using the same data that you have used for our model solution.\n",
        "Then Compare the results between the vanilla model and our complex model."
      ]
    },
    {
      "cell_type": "code",
      "execution_count": null,
      "metadata": {
        "colab": {
          "base_uri": "https://localhost:8080/",
          "height": 275
        },
        "colab_type": "code",
        "id": "r3uAvHHzwW8D",
        "outputId": "e70b620d-73ef-4b69-dfb1-9719dc8ff6a0"
      },
      "outputs": [
        {
          "name": "stdout",
          "output_type": "stream",
          "text": [
            "Train on 73440 samples, validate on 13360 samples\n",
            "Epoch 1/5\n",
            "73440/73440 [==============================] - 45s 619us/step - loss: 2.7163 - acc: 0.1814 - val_loss: 2.7079 - val_acc: 0.2183\n",
            "Epoch 2/5\n",
            "73440/73440 [==============================] - 40s 550us/step - loss: 2.4709 - acc: 0.2514 - val_loss: 2.6120 - val_acc: 0.2372\n",
            "Epoch 3/5\n",
            "73440/73440 [==============================] - 40s 549us/step - loss: 2.3945 - acc: 0.2754 - val_loss: 2.5453 - val_acc: 0.2608\n",
            "Epoch 4/5\n",
            "73440/73440 [==============================] - 41s 552us/step - loss: 2.3237 - acc: 0.3069 - val_loss: 2.4661 - val_acc: 0.2959\n",
            "Epoch 5/5\n",
            "73440/73440 [==============================] - 40s 550us/step - loss: 2.2357 - acc: 0.3444 - val_loss: 2.3761 - val_acc: 0.3237\n",
            "13360/13360 [==============================] - 2s 175us/step\n",
            "Baseline Model Test Accuracy: 0.32372754491017963\n",
            "Baseline Model Test Loss: 2.376121672327647\n"
          ]
        }
      ],
      "source": [
        "baseline_model = Sequential()\n",
        "baseline_model.add(Conv2D(filters=16, kernel_size=3, padding='same', input_shape=(64, 64, 1), activation='relu')) # Input layer\n",
        "baseline_model.add(GlobalAveragePooling2D())\n",
        "baseline_model.add(Dense(38, activation = 'softmax')) # Output layer => output dimension = 38 as it is multi-class\n",
        "\n",
        "# Compile the baseline model\n",
        "baseline_model.compile(loss='categorical_crossentropy', metrics=['accuracy'], optimizer='Adam')\n",
        "\n",
        "# Fit the baseline model with training dataset\n",
        "epochs = 5\n",
        "batch_size = 20\n",
        "\n",
        "baseline_model.fit(training_data_images, training_data_labels, \n",
        "                  validation_data=(testing_data_images, testing_data_labels),\n",
        "                  epochs=epochs, batch_size=batch_size, verbose=1)\n",
        "\n",
        "# Test the baseline model\n",
        "baseline_metrics = baseline_model.evaluate(testing_data_images, testing_data_labels, verbose=1)\n",
        "print(\"Baseline Model Test Accuracy: {}\".format(baseline_metrics[1]))\n",
        "print(\"Baseline Model Test Loss: {}\".format(baseline_metrics[0]))\n"
      ]
    },
    {
      "cell_type": "markdown",
      "metadata": {
        "colab_type": "text",
        "id": "x2vaf6pNSiBj"
      },
      "source": [
        "**We get test accuracy of 32.37% from the baseline Model (vanilla). **"
      ]
    },
    {
      "cell_type": "markdown",
      "metadata": {
        "colab_type": "text",
        "id": "VKGKogPCMhZM"
      },
      "source": [
        "## Predict Image Classes"
      ]
    },
    {
      "cell_type": "markdown",
      "metadata": {
        "colab_type": "text",
        "id": "_TEpbiLtEtaW"
      },
      "source": [
        "Making a method which takes a model, data and its true labels (optional for using in testing). Then it gives the predicted classes of the given data using the given model."
      ]
    },
    {
      "cell_type": "code",
      "execution_count": 31,
      "metadata": {
        "colab": {},
        "colab_type": "code",
        "id": "dXQEPxpGBJao"
      },
      "outputs": [],
      "source": [
        "def get_predicted_classes(model, data, labels=None):\n",
        "  image_predictions = model.predict(data)\n",
        "  predicted_classes = np.argmax(image_predictions, axis=1)\n",
        "  true_classes = np.argmax(labels, axis=1)\n",
        "  return predicted_classes, true_classes"
      ]
    },
    {
      "cell_type": "markdown",
      "metadata": {
        "colab_type": "text",
        "id": "mA_tBIt3A3xr"
      },
      "source": [
        "## Comparing Evaluation Metrics between Benchmark Model and Final Model"
      ]
    },
    {
      "cell_type": "markdown",
      "metadata": {
        "colab_type": "text",
        "id": "LSPG55usTdyZ"
      },
      "source": [
        "Making a method which will print all metrics (precision, recall, f1-score and support) with each class in the dataset."
      ]
    },
    {
      "cell_type": "code",
      "execution_count": 32,
      "metadata": {
        "colab": {},
        "colab_type": "code",
        "id": "rS1nOxCQSImh"
      },
      "outputs": [],
      "source": [
        "from sklearn.metrics import classification_report\n",
        "\n",
        "def get_classification_report(y_true, y_pred):\n",
        "  print(classification_report(y_true, y_pred))"
      ]
    },
    {
      "cell_type": "markdown",
      "metadata": {
        "colab_type": "text",
        "id": "FdzM8mCUT0m1"
      },
      "source": [
        "### Evaluating Final Model using the specified metrics"
      ]
    },
    {
      "cell_type": "code",
      "execution_count": null,
      "metadata": {
        "colab": {},
        "colab_type": "code",
        "id": "HgR-5MsXS0O3"
      },
      "outputs": [],
      "source": [
        "y_pred, y_true = get_predicted_classes(model, testing_data_images, testing_data_labels)\n",
        "get_classification_report(y_true, y_pred)"
      ]
    },
    {
      "cell_type": "markdown",
      "metadata": {
        "colab_type": "text",
        "id": "MlYyVo8uUJqf"
      },
      "source": [
        "### Evaluating Baseline (Benchmark) Model using the specified metrics"
      ]
    },
    {
      "cell_type": "code",
      "execution_count": null,
      "metadata": {
        "colab": {
          "base_uri": "https://localhost:8080/",
          "height": 802
        },
        "colab_type": "code",
        "id": "AbG3WPovTFQD",
        "outputId": "ed6edb73-41ae-4766-ece2-3143af66f389"
      },
      "outputs": [
        {
          "name": "stdout",
          "output_type": "stream",
          "text": [
            "             precision    recall  f1-score   support\n",
            "\n",
            "          0       0.95      0.84      0.89      1000\n",
            "          1       0.25      0.90      0.39      1000\n",
            "          2       0.29      0.23      0.26      1000\n",
            "          3       0.24      0.28      0.25      1000\n",
            "          4       0.31      0.29      0.30      1000\n",
            "          5       0.52      0.73      0.61      1000\n",
            "          6       0.18      0.37      0.24      1000\n",
            "          7       0.28      0.64      0.39      1000\n",
            "          8       0.00      0.00      0.00      1000\n",
            "          9       0.16      0.03      0.04      1000\n",
            "         10       0.00      0.00      0.00       120\n",
            "         11       0.00      0.00      0.00       120\n",
            "         12       0.00      0.00      0.00       120\n",
            "         13       0.00      0.00      0.00       120\n",
            "         14       0.00      0.00      0.00       120\n",
            "         15       0.00      0.00      0.00       120\n",
            "         16       0.00      0.00      0.00       120\n",
            "         17       0.48      0.18      0.27       120\n",
            "         18       0.00      0.00      0.00       120\n",
            "         19       0.00      0.00      0.00       120\n",
            "         20       0.00      0.00      0.00       120\n",
            "         21       0.00      0.00      0.00       120\n",
            "         22       0.00      0.00      0.00       120\n",
            "         23       0.00      0.00      0.00       120\n",
            "         24       0.00      0.00      0.00       120\n",
            "         25       0.00      0.00      0.00       120\n",
            "         26       0.00      0.00      0.00       120\n",
            "         27       0.00      0.00      0.00       120\n",
            "         28       0.00      0.00      0.00       120\n",
            "         29       0.00      0.00      0.00       120\n",
            "         30       0.00      0.00      0.00       120\n",
            "         31       0.00      0.00      0.00       120\n",
            "         32       0.00      0.00      0.00       120\n",
            "         33       0.00      0.00      0.00       120\n",
            "         34       0.00      0.00      0.00       120\n",
            "         35       0.00      0.00      0.00       120\n",
            "         36       0.00      0.00      0.00       120\n",
            "         37       0.00      0.00      0.00       120\n",
            "\n",
            "avg / total       0.24      0.32      0.26     13360\n",
            "\n"
          ]
        },
        {
          "name": "stderr",
          "output_type": "stream",
          "text": [
            "/usr/local/lib/python3.6/dist-packages/sklearn/metrics/classification.py:1135: UndefinedMetricWarning: Precision and F-score are ill-defined and being set to 0.0 in labels with no predicted samples.\n",
            "  'precision', 'predicted', average, warn_for)\n"
          ]
        }
      ],
      "source": [
        "y_pred, y_true = get_predicted_classes(baseline_model, testing_data_images, testing_data_labels)\n",
        "get_classification_report(y_true, y_pred)"
      ]
    },
    {
      "cell_type": "markdown",
      "metadata": {
        "colab_type": "text",
        "id": "X_Kf3t3fpvwD"
      },
      "source": [
        "## A Demo to see how the model works on examples of the testing data"
      ]
    },
    {
      "cell_type": "markdown",
      "metadata": {
        "colab_type": "text",
        "id": "gfa_fZNbsNSf"
      },
      "source": [
        "Let's recall:\n",
        "* Digits from 0 to 9 were encoded to categorical labels from 0 to 9\n",
        "* Letters from ’alef’='أ' to ’yeh’='ى' were encoded to categorical labels from 10 to 37\n",
        "\n",
        "**Recall that we have used One Hot Encoding which transforms integer to a binary matrix where the array contains only one ‘1’ and the rest elements are ‘0’.**"
      ]
    },
    {
      "cell_type": "code",
      "execution_count": 163,
      "metadata": {
        "colab": {},
        "colab_type": "code",
        "id": "28J4tcx60-lO"
      },
      "outputs": [],
      "source": [
        "def get_non_zero_index_from_one_hot_encoding(one_hot_encoding):\n",
        "  non_zero_index = np.where(one_hot_encoding == 1)[0]\n",
        "  assert(len(non_zero_index) == 1)\n",
        "  non_zero_index = non_zero_index[0]\n",
        "  return non_zero_index"
      ]
    },
    {
      "cell_type": "code",
      "execution_count": 164,
      "metadata": {
        "colab": {},
        "colab_type": "code",
        "id": "xuAddVtcsCK4"
      },
      "outputs": [],
      "source": [
        "def convert_categorical_label_to_real_label(categorical_label):\n",
        "  real_labels = []\n",
        "  real_labels.extend([x for x in range(10)])\n",
        "  real_labels.extend(['أ', 'ب', 'ت', 'ث', 'ج', 'ح', 'خ', 'د', 'ذ', 'ر', 'ز', 'س', 'ش', 'ص', 'ض', 'ط', 'ظ', 'ع', 'غ', 'ف', 'ق', 'ك', 'ل', 'م', 'ن', 'ه', 'و', 'ى'])\n",
        "  return real_labels[categorical_label]"
      ]
    },
    {
      "cell_type": "code",
      "execution_count": 165,
      "metadata": {
        "colab": {},
        "colab_type": "code",
        "id": "vyyZNtjn16Be"
      },
      "outputs": [],
      "source": [
        "def show_example(sample_index):\n",
        "  y_pred, y_true = get_predicted_classes(model, testing_data_images[[sample_index]], testing_data_labels[[sample_index]])\n",
        "  non_zero_index = get_non_zero_index_from_one_hot_encoding(testing_data_labels[sample_index])\n",
        "  y_true = y_true[0]\n",
        "  y_pred = y_pred[0]\n",
        "  assert y_true == non_zero_index\n",
        "  true_label = convert_categorical_label_to_real_label(y_true)\n",
        "  predicted_label = convert_categorical_label_to_real_label(y_pred)\n",
        "  print(\"The following image has the written character '{}' but the model predicted it as '{}'\".format(true_label, predicted_label))\n",
        "  return true_label == predicted_label"
      ]
    },
    {
      "cell_type": "code",
      "execution_count": 166,
      "metadata": {
        "colab": {
          "base_uri": "https://localhost:8080/",
          "height": 98
        },
        "colab_type": "code",
        "id": "bBMKkXB6ruso",
        "outputId": "5309c76d-c266-4d35-fbb3-d0276acec7d0"
      },
      "outputs": [
        {
          "name": "stdout",
          "output_type": "stream",
          "text": [
            "The following image has the written character '5' but the model predicted it as '5'\n"
          ]
        },
        {
          "data": {
            "image/png": "[encoded data removed]",
            "text/plain": [
              "<PIL.Image.Image image mode=L size=64x64 at 0x7F5A9EC47278>"
            ]
          },
          "execution_count": 166,
          "metadata": {
            "tags": []
          },
          "output_type": "execute_result"
        }
      ],
      "source": [
        "sample_index = 5\n",
        "show_example(sample_index)\n",
        "convert_values_to_image(testing_digits_images.loc[sample_index], True)"
      ]
    },
    {
      "cell_type": "code",
      "execution_count": 167,
      "metadata": {
        "colab": {
          "base_uri": "https://localhost:8080/",
          "height": 98
        },
        "colab_type": "code",
        "id": "dQIeiAXi4TPh",
        "outputId": "a6005a3f-1e64-47ab-b5b8-101aefb9bc70"
      },
      "outputs": [
        {
          "name": "stdout",
          "output_type": "stream",
          "text": [
            "The following image has the written character 'ب' but the model predicted it as 'ب'\n"
          ]
        },
        {
          "data": {
            "image/png": "[encoded data removed]",
            "text/plain": [
              "<PIL.Image.Image image mode=L size=64x64 at 0x7F5B4154CD30>"
            ]
          },
          "execution_count": 167,
          "metadata": {
            "tags": []
          },
          "output_type": "execute_result"
        }
      ],
      "source": [
        "sample_index = 10002\n",
        "show_example(sample_index)\n",
        "convert_values_to_image(testing_letters_images.loc[sample_index - testing_digits_images.shape[0]], True)"
      ]
    },
    {
      "cell_type": "code",
      "execution_count": 168,
      "metadata": {
        "colab": {
          "base_uri": "https://localhost:8080/",
          "height": 98
        },
        "colab_type": "code",
        "id": "o5KU-tgO5bIt",
        "outputId": "e8fd2100-61bf-44e2-ef27-636d1cc0e102"
      },
      "outputs": [
        {
          "name": "stdout",
          "output_type": "stream",
          "text": [
            "The following image has the written character 'د' but the model predicted it as 'د'\n"
          ]
        },
        {
          "data": {
            "image/png": "[encoded data removed]",
            "text/plain": [
              "<PIL.Image.Image image mode=L size=64x64 at 0x7F5B4154CDA0>"
            ]
          },
          "execution_count": 168,
          "metadata": {
            "tags": []
          },
          "output_type": "execute_result"
        }
      ],
      "source": [
        "sample_index = 11414\n",
        "show_example(sample_index)\n",
        "convert_values_to_image(testing_letters_images.loc[sample_index - testing_digits_images.shape[0]], True)"
      ]
    },
    {
      "cell_type": "markdown",
      "metadata": {
        "colab_type": "text",
        "id": "FMrOKy46Ua1d"
      },
      "source": [
        "## Conclusion"
      ]
    },
    {
      "cell_type": "markdown",
      "metadata": {
        "colab_type": "text",
        "id": "T1UPKIl9Uew7"
      },
      "source": [
        "**We built a CNN model which can classify the arabic handwritten images into digits and letters. We tested the model on more than 13000 image with all possible classes and got very high accuracy of 98.86%.**"
      ]
    }
  ],
  "metadata": {
    "accelerator": "GPU",
    "colab": {
      "collapsed_sections": [],
      "name": "Copy of Arabic Handwritten Recognition.ipynb",
      "provenance": [],
      "toc_visible": true
    },
    "kernelspec": {
      "display_name": "Python 3",
      "name": "python3"
    },
    "language_info": {
      "codemirror_mode": {
        "name": "ipython",
        "version": 3
      },
      "file_extension": ".py",
      "mimetype": "text/x-python",
      "name": "python",
      "nbconvert_exporter": "python",
      "pygments_lexer": "ipython3",
      "version": "3.10.0"
    }
  },
  "nbformat": 4,
  "nbformat_minor": 0
}
